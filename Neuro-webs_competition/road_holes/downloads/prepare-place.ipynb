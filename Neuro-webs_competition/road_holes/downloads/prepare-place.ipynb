{
 "cells": [
  {
   "cell_type": "markdown",
   "metadata": {},
   "source": [
    "# Подготовка рабочего места"
   ]
  },
  {
   "cell_type": "markdown",
   "metadata": {},
   "source": [
    "Проверяем есть ли на компьютере visual  studio code, если нет то скачиваем. Cкачиваем git с офицального сайта для Линукса если Linux. на офицальном сайте git написана команда которую нужно вставить в терминал, перед командой важно добавить sudo \n",
    "\n",
    "Проверяем что в visual studio code в расширениях(extensions) скачан jupyter и python, если нет то ищем и скачиваем их также в расширениях.\n",
    "\n",
    "Создаем папку, открываем её с помощью visual studio code.\n",
    "\n",
    "Для открытия папки:\n",
    "    нажимаем File => Open Folder\n",
    "\n",
    "создаём виртуальную среду\n",
    "    ctrl+shift+p => python create environment(создать среду) enter => venv enter => python(версии которая там будет) enter\n",
    "\n",
    "Ждём пока создастся venv, затем создаём файл с расширением \n",
    ".ipynb - открываем его в нем в углу выбираем select Kernel(выбрать ядро) в появившемся окне выбора выбираем venv\n",
    "нажимаем ctrl+shift+~ (~ находится на букве ё русской)\n",
    "\n",
    "Если windows: \n",
    "\n",
    "    открывется терминал в терминале ищем стрелочку рядом с +, нажимаем по ней выбираем Command prompt,\n",
    "\n",
    "Иначе следующий шаг:\n",
    "\n",
    "если перед строкой в самом начале venv не пишется:\n",
    "\n",
    "    заходим в папку venv/scripts ищем файл activate.bat - копируем к нему путь и вставляем его в нашем терминал\n",
    "    \n",
    "Иначе переходим к следующему шагу\n",
    "\n",
    "в терминале пишем команду pip install ipykernel - после установки пробуем запустить ячейку - если запустилась - все хорошо.\n",
    "\n",
    "Внутри файла скачиваем специальные программы которые нам понадобятся во время решения следующим образом:\n",
    "незабываем добавлять комментарии зачем нужен тот или иной репозиторий,  здесь я в скобках указываю зачем эта библиотека, так что копировать, если команда не выполняется в ячейке копируем в терминал.\n",
    "\n",
    "!git clone https://github.com/bjornstenger/xml2yolo.git\n",
    "(Для изменения формата xml)\n",
    "\n",
    "!git clone https://github.com/ManzarIMalik/YOLO-Annotation-Tool.git (Для просмотра пропусков)\n",
    "\n",
    "!git clone https://github.com/Taeyoung96/Yolo-to-COCO-format-converter.git (Для записи в json)\n",
    "\n",
    "!git clone https://github.com/ultralytics/yolov5 (библиотека для создания модели нейронной сети)\n",
    "\n",
    "теперь устанавливаем необходимые библиотеки также пишем в файле:\n",
    "\n",
    "!pip install pathlib\n",
    "\n",
    "!pip install numpy\n",
    "\n",
    "!pip install opencv-python\n",
    "\n",
    "!pip install imagesize\n",
    "\n",
    "!pip install scikit-learn\n",
    "\n",
    "!pip install -r yolov5/requirements.txt\n",
    "\n",
    "!pip install easyocr\n",
    "\n",
    "!pip install streamlit\n",
    "\n",
    "!pip install pillow\n",
    "\n",
    "!pip install torch"
   ]
  },
  {
   "cell_type": "markdown",
   "metadata": {},
   "source": [
    "из официального репозитория yolov5 скачиваем веса yolov5n и yolov5s \n",
    "вот две сылки для скачивания:\n",
    "\n",
    "https://github.com/ultralytics/yolov5/releases/download/v7.0/yolov5n.pt\n",
    "\n",
    "https://github.com/ultralytics/yolov5/releases/download/v7.0/yolov5s.pt"
   ]
  },
  {
   "cell_type": "markdown",
   "metadata": {},
   "source": [
    "скачиваем в папку где будем работать"
   ]
  },
  {
   "cell_type": "markdown",
   "metadata": {},
   "source": [
    "запускаем следующую строчку кода чтобы yolo настроить на работу без интернета"
   ]
  },
  {
   "cell_type": "code",
   "execution_count": null,
   "metadata": {},
   "outputs": [],
   "source": [
    "!python yolov5/train.py  --weights yolov5n.pt --epochs 1"
   ]
  },
  {
   "cell_type": "markdown",
   "metadata": {},
   "source": [
    "запускаем, следующий код чтобы загрузить модели работающие с русским и английским текстом"
   ]
  },
  {
   "cell_type": "code",
   "execution_count": 17,
   "metadata": {},
   "outputs": [
    {
     "name": "stderr",
     "output_type": "stream",
     "text": [
      "Using CPU. Note: This module is much faster with a GPU.\n",
      "Downloading recognition model, please wait. This may take several minutes depending upon your network connection.\n"
     ]
    },
    {
     "name": "stdout",
     "output_type": "stream",
     "text": [
      "Progress: |██████████████████████████████████████████████████| 100.1% Complete"
     ]
    }
   ],
   "source": [
    "# библеотека с предобученной моделью\n",
    "import easyocr\n",
    "# загружаем предобученную модель на английских буквам\n",
    "reader = easyocr.Reader(['en', 'ru'], gpu = False)"
   ]
  }
 ],
 "metadata": {
  "kernelspec": {
   "display_name": ".venv",
   "language": "python",
   "name": "python3"
  },
  "language_info": {
   "codemirror_mode": {
    "name": "ipython",
    "version": 3
   },
   "file_extension": ".py",
   "mimetype": "text/x-python",
   "name": "python",
   "nbconvert_exporter": "python",
   "pygments_lexer": "ipython3",
   "version": "3.10.9"
  }
 },
 "nbformat": 4,
 "nbformat_minor": 2
}
