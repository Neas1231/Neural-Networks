{
 "cells": [
  {
   "cell_type": "markdown",
   "source": [
    "# Модуль Б Разработка модели машинного обучения"
   ],
   "metadata": {
    "collapsed": false
   },
   "id": "3c4f032edd4de41b"
  },
  {
   "cell_type": "markdown",
   "source": [
    "## Разработка алгоритма обучения"
   ],
   "metadata": {
    "collapsed": false
   },
   "id": "bc3bfafcb750ed36"
  },
  {
   "cell_type": "markdown",
   "source": [
    "Моя задача в рамках этого модуя разработать и обучить нейронную сеть на основе подготовленных данных в прошлом модуле которая определит и распознает автомобильные номера российского образца."
   ],
   "metadata": {
    "collapsed": false
   },
   "id": "2f77ad164cef2e43"
  },
  {
   "cell_type": "markdown",
   "source": [
    "Эту задачу можно разделить на несколько частей как уже было сказано: определение и распознавание. Определение как таковое является задачей детекции предмета на изображении."
   ],
   "metadata": {
    "collapsed": false
   },
   "id": "5880df01cee913d2"
  },
  {
   "cell_type": "markdown",
   "source": [
    "Пример детекции:"
   ],
   "metadata": {
    "collapsed": false
   },
   "id": "8f1345f7065ff229"
  },
  {
   "cell_type": "markdown",
   "source": [
    "![](./static/val_batch0_labels.jpg)"
   ],
   "metadata": {
    "collapsed": false
   },
   "id": "df4e12f6e0762cdb"
  },
  {
   "cell_type": "markdown",
   "source": [
    "Модель не только находит и классифицирует предмет на картинке, но и обводит его в рамочку, которую можно использовать в дальнейших целях."
   ],
   "metadata": {
    "collapsed": false
   },
   "id": "5094a35e19367fcf"
  },
  {
   "cell_type": "markdown",
   "source": [
    "Таким образом в нашей задаче я буду использовать модель детекции yolov5, работу которой вы можете увидеть на картинке выше"
   ],
   "metadata": {
    "collapsed": false
   },
   "id": "abed9dba34495c34"
  },
  {
   "cell_type": "markdown",
   "source": [
    "После того как моя модель определит наш номер и поставит для него рамочку мы обрежем картинку по этой рамочке и будем работать с этим изображением для распознавания номера автомобиля, ведь без такой обрезки модель чтения текста с картинки может либо прочитать что-то на изображении что не относится к автомобильному номеру, либо в общем, из-за нагруженности изображения не увидеть номер и/или прочитать не правильно."
   ],
   "metadata": {
    "collapsed": false
   },
   "id": "7154219dd1592a82"
  },
  {
   "cell_type": "markdown",
   "source": [
    "Говоря о распознавании автомобильного номера на картинке есть несколько способов прочитать текст с изображения. Один из них я буду использовать - это предобученная библиотека easyocr. Своего рода готовое решение в библиотеке я беру не с проста. Языковые модели которые используются при чтения данных с изображений при обучении требуют огромное количество ресурсов, по сравнению с уже обученной моделью. Для таких тяжёлых нейросетей нужно большое количество качественной быстрой оперативной памяти либо такое же большое количество видео памяти с дискретной видеокартой в разы ускоряющей обучение модели. Такими ресурсами моноблок, который я использую не обладает, следовательно остаётся использовать заготовленные библиотеки чтения текста с картинок в угоду времени и во избежание непосильных нагрузок на компьютер"
   ],
   "metadata": {
    "collapsed": false
   },
   "id": "841df72bae67acd1"
  },
  {
   "cell_type": "markdown",
   "source": [
    "### Подбор параметров"
   ],
   "metadata": {
    "collapsed": false
   },
   "id": "b7081ddd4c5a218d"
  },
  {
   "cell_type": "markdown",
   "source": [
    "В ходе попыток обучения модели yolov5 и использовании различных библиотек по чтению текста с картинок я подобрал для обеих решений лучшие параметры."
   ],
   "metadata": {
    "collapsed": false
   },
   "id": "3b2c32806f4cbac1"
  },
  {
   "cell_type": "markdown",
   "source": [
    "#### Yolov5"
   ],
   "metadata": {
    "collapsed": false
   },
   "id": "6edc19ffb9674ebf"
  },
  {
   "cell_type": "markdown",
   "source": [
    "Обучение модели yolov5 выглядит примерно следующим образом как можно увидеть в файле ./yolov5/tutorial.ipynb поставляющимся вместе с самой моделью:"
   ],
   "metadata": {
    "collapsed": false
   },
   "id": "95bbdb45ba02bb76"
  },
  {
   "cell_type": "markdown",
   "source": [
    "![](./static/2.png)"
   ],
   "metadata": {
    "collapsed": false
   },
   "id": "1816802ed0af4168"
  },
  {
   "cell_type": "markdown",
   "source": [
    "после команд \"!python train.py\" идут всеразличные параметры по изменению нашей модели:\n",
    "- размер картинок на вход\n",
    "- сколько картинок за раз поставляется на вход\n",
    "- сколько раз нейронная сеть должна пройти по всем данным\n",
    "и так далее"
   ],
   "metadata": {
    "collapsed": false
   },
   "id": "2f176673f17ad808"
  },
  {
   "cell_type": "markdown",
   "source": [
    "даже в этом примере параметров много, но изучив код обучения модели я пошёл дальше и в ходе тестирования моделей(запуска различных параметров в подмодуле 3 обучения модели), анализа их метрик ошибок(которые вы можете увидеть и в картинке выше с приставками '_loss') и в попытке их уменьшения я пришёл к следующим параметрам:"
   ],
   "metadata": {
    "collapsed": false
   },
   "id": "c6d5c9846f1bacc4"
  },
  {
   "cell_type": "code",
   "outputs": [
    {
     "name": "stderr",
     "output_type": "stream",
     "text": [
      "python: can't open file 'C:\\\\Users\\\\Participant\\\\Desktop\\\\Rudnev\\\\Module b\\\\train.py': [Errno 2] No such file or directory\n"
     ]
    }
   ],
   "source": [
    "!python train.py --img 244 --batch 10 --epochs 10 --data dataset.yaml --weights yolov5n.pt --cache --nosave --optimizer Adam --workers 0 --label-smoothing 0.0 --patience 5 --freeze 0 "
   ],
   "metadata": {
    "collapsed": false,
    "ExecuteTime": {
     "end_time": "2024-03-15T06:42:38.780554Z",
     "start_time": "2024-03-15T06:42:38.698336Z"
    }
   },
   "id": "244f51fed9f0f382",
   "execution_count": 1
  },
  {
   "cell_type": "markdown",
   "source": [
    "--img Размер изображений на вход я уменьшил, т.к. большие фотографии занимают много памяти и кроме того загрузка фотографий базового размера в 640 на компьютере требует на много больше времени\n",
    "--batch Количество на вход картинок я уменьшил вдвое, для того чтобы уменьшить затраты памяти компьютера, чтобы модель в последствии и её обучение не требовали много памяти. см. след. картинку "
   ],
   "metadata": {
    "collapsed": false
   },
   "id": "1da7bece173da9a0"
  },
  {
   "cell_type": "markdown",
   "source": [
    "![](./static/3.png)"
   ],
   "metadata": {
    "collapsed": false
   },
   "id": "acdf64003c8b18d6"
  },
  {
   "cell_type": "markdown",
   "source": [
    "4642,3 МБ приемлемо для обучения и даже дальнейшей работы с кодом пока модель обучается, кроме того большую часть из этих 50% использует pycharm в обычном режиме"
   ],
   "metadata": {
    "collapsed": false
   },
   "id": "4b19e34abf3f8b41"
  },
  {
   "cell_type": "markdown",
   "source": [
    "--epochs 10 я поставил в угоду точности модели, ведь именно с таким параметром она выдавала приемлемый результат за потраченное время\n",
    "--data параметр загрузки своих данных, в который я указал dataset.yaml - файл полной загрузки наших данных созданный в последующих модулях"
   ],
   "metadata": {
    "collapsed": false
   },
   "id": "fab185d59063058d"
  },
  {
   "cell_type": "markdown",
   "source": [
    "Остальными параметрами я оперировал в зависимости от ошибок модели и её точности."
   ],
   "metadata": {
    "collapsed": false
   },
   "id": "efa1a59a8d81037f"
  },
  {
   "cell_type": "markdown",
   "source": [
    "### Модель распознавания"
   ],
   "metadata": {
    "collapsed": false
   },
   "id": "bcd050a94014ffc9"
  },
  {
   "cell_type": "markdown",
   "source": [
    "Готовых моделей распознавания не так много, по крайней мере не так много на самом деле точных моделей для нашей задачи распознавания номеров."
   ],
   "metadata": {
    "collapsed": false
   },
   "id": "86f51387098379fe"
  },
  {
   "cell_type": "markdown",
   "source": [
    "Я пробовал разные модели на данных которые сохранил себе в папке .\\Result_A\\cropped. и наиболее валидной для нашей задачи оказалась модель библиотеки easyocr"
   ],
   "metadata": {
    "collapsed": false
   },
   "id": "87c1f1e5d4c467e"
  },
  {
   "cell_type": "markdown",
   "source": [
    "Работа модели:"
   ],
   "metadata": {
    "collapsed": false
   },
   "id": "cdb7a3d5ab8ba47a"
  },
  {
   "cell_type": "code",
   "outputs": [
    {
     "name": "stderr",
     "output_type": "stream",
     "text": [
      "\n",
      "KeyboardInterrupt\n",
      "\n"
     ]
    }
   ],
   "source": [
    "import easyocr # Импортирование класса easyocr содержащий модель\n",
    "reader = easyocr.Reader(['en','ru'],gpu = False) # обозначение модели читающей текст с картинки\n",
    "result = reader.readtext('./Result_A/cropped/7.jpg') # работа модели по прочтению текста\n",
    "result[0][1]"
   ],
   "metadata": {
    "collapsed": false,
    "ExecuteTime": {
     "end_time": "2024-03-15T06:42:41.725739Z",
     "start_time": "2024-03-15T06:42:38.782806Z"
    }
   },
   "id": "a856f51344546bcf",
   "execution_count": 2
  },
  {
   "cell_type": "code",
   "outputs": [],
   "source": [
    "result[1][1]"
   ],
   "metadata": {
    "collapsed": false,
    "ExecuteTime": {
     "start_time": "2024-03-15T06:42:41.728444Z"
    }
   },
   "id": "e2a8895806e59104",
   "execution_count": null
  },
  {
   "cell_type": "markdown",
   "source": [
    "Как мы видим например на случайной картинке в нашем датасете ./Result_A/cropped/ модель всё распознала верно"
   ],
   "metadata": {
    "collapsed": false
   },
   "id": "14f6468201314e0f"
  },
  {
   "cell_type": "markdown",
   "source": [
    "![](./Result_A/cropped/7.jpg)"
   ],
   "metadata": {
    "collapsed": false
   },
   "id": "41c99952337ba88f"
  },
  {
   "cell_type": "markdown",
   "source": [
    "для такой модели подбор параметров значительно мал по сравнению с той же yolov5, но в угоду точности я использовал два языка прочтения ['en','ru'](английский и русский в easyocr.Reader(['en','ru'],gpu = False)) и использовал параметр gpu=False, т.к. этот параметр ставится True когда в устройстве есть видеокарта для ускорения"
   ],
   "metadata": {
    "collapsed": false
   },
   "id": "69dc03003d1c222d"
  },
  {
   "cell_type": "markdown",
   "source": [
    "надпись: Using CPU. Note: This module is much faster with a GPU. это как раз оповещение, что модель использует именно центральный процессор а не видеокарту которой нет."
   ],
   "metadata": {
    "collapsed": false
   },
   "id": "a856950755e975ff"
  },
  {
   "cell_type": "markdown",
   "source": [
    "## Импорт заготовленных данных"
   ],
   "metadata": {
    "collapsed": false
   },
   "id": "5565c6a098426bfc"
  },
  {
   "cell_type": "markdown",
   "source": [
    "Из прошлого модуля А мы получили в результате папку Result_A, которая содержит данные, нужные для обучения наших моделей. В этом подмодуле мы должны импортировать их, преобразовать и внести в тренировку нейросетевых моделей, которые я буду использовать"
   ],
   "metadata": {
    "collapsed": false
   },
   "id": "e3805d16a5e2a4d2"
  },
  {
   "cell_type": "markdown",
   "source": [
    "Для начала напишем код, который разделит наши данные в папке Result_A\\licenses тоесть labels и images на 2 выборки, обучающую и валидационную, потому что именно такой формат данных принимает модель yolov5."
   ],
   "metadata": {
    "collapsed": false
   },
   "id": "456f132075abdc8f"
  },
  {
   "cell_type": "code",
   "outputs": [],
   "source": [
    "from glob import glob\n",
    "import random\n",
    "files_img = glob('./Result_A/licenses/images/*.jpg')\n",
    "random.shuffle(files_img)\n",
    "files_txt = glob('./Result_A/licenses/labels/*.txt')\n",
    "random.shuffle(files_txt)\n",
    "print('Файлы с изображениями: ',len(files_img), 'Файлы с разметками: ',len(files_txt))"
   ],
   "metadata": {
    "collapsed": false
   },
   "id": "65c4cac0d533fce5",
   "execution_count": null
  },
  {
   "cell_type": "markdown",
   "source": [
    "Как видим мы импортируем __все__ файлы с разметками и изображениями из этой директории ведь даже файловая система windows показывает что их 10536:"
   ],
   "metadata": {
    "collapsed": false
   },
   "id": "8508a6c4569210cf"
  },
  {
   "cell_type": "markdown",
   "source": [
    "![](./static/1.png)"
   ],
   "metadata": {
    "collapsed": false
   },
   "id": "3feed26518ad49b9"
  },
  {
   "cell_type": "markdown",
   "source": [
    "Теперь когда мы полностью импортировали данные мы разделим их как я уже сказал на выборки train(80%) val(20%):"
   ],
   "metadata": {
    "collapsed": false
   },
   "id": "768b1d7cdf8e59d5"
  },
  {
   "cell_type": "code",
   "outputs": [],
   "source": [
    "training_data = list(map(lambda x:os.path.basename(x)[:-4],files_img[:len(files_img)//100*80]))\n",
    "validation_data = list(map(lambda x:os.path.basename(x)[:-4],files_img[len(files_img)//100*80:]))"
   ],
   "metadata": {
    "collapsed": false
   },
   "id": "a0f1fa204e2adec4",
   "execution_count": null
  },
  {
   "cell_type": "code",
   "outputs": [],
   "source": [
    "# И создав папки\n",
    "import os\n",
    "path = './data/'\n",
    "for dir1 in ['train','val']:\n",
    "    for dir2 in ['labels','images']:\n",
    "        os.makedirs(os.path.join(path,dir1,dir2),exist_ok=True)"
   ],
   "metadata": {
    "collapsed": false,
    "ExecuteTime": {
     "start_time": "2024-03-15T06:42:41.730712Z"
    }
   },
   "id": "50bbc3b602c539f6",
   "execution_count": null
  },
  {
   "cell_type": "code",
   "outputs": [],
   "source": [
    "# Запишем эти выборки\n",
    "import shutil\n",
    "src_path = './Result_A/licenses/'\n",
    "dst_path = './data/'\n",
    "for train in training_data: # Запись тестовой выборки\n",
    "    shutil.copy(os.path.join(src_path,'images',train) + '.jpg',os.path.join(path,'train','images'))\n",
    "    shutil.copy(os.path.join(src_path,'labels',train) + '.txt',os.path.join(path,'train','labels'))\n",
    "for val in validation_data: # Запись валидационной выборки\n",
    "    shutil.copy(os.path.join(src_path,'images',val) + '.jpg',os.path.join(path,'val','images'))\n",
    "    shutil.copy(os.path.join(src_path,'labels',val) + '.txt',os.path.join(path,'val','labels'))"
   ],
   "metadata": {
    "collapsed": false,
    "ExecuteTime": {
     "start_time": "2024-03-15T06:42:41.733013Z"
    }
   },
   "id": "1093b9e03c6f7601",
   "execution_count": null
  },
  {
   "cell_type": "markdown",
   "source": [
    "Так же, для использования, полностью импортируем и датасеты из ./Result_A/cropped и ./Result_A/symbols"
   ],
   "metadata": {
    "collapsed": false
   },
   "id": "1bbab917c5ed5129"
  },
  {
   "cell_type": "code",
   "outputs": [],
   "source": [
    "cropped_data = glob('./Result_A/cropped/*')\n",
    "print('Данные из ./Result_A/cropped: ', len(cropped_data))"
   ],
   "metadata": {
    "collapsed": false,
    "ExecuteTime": {
     "start_time": "2024-03-15T06:42:41.734190Z"
    }
   },
   "id": "518a2122da4694b8",
   "execution_count": null
  },
  {
   "cell_type": "code",
   "outputs": [],
   "source": [
    "path = './Result_A/symbols/'\n",
    "symbols_data = []\n",
    "for class_num in range(0,22):\n",
    "    symbols_data.append(glob(path+str(class_num)+'/*'))\n",
    "summa = 0\n",
    "for class_num in range(0,22):\n",
    "    summa += len(symbols_data[class_num])\n",
    "print('Данные из ./Result_A/symbols: ', summa)"
   ],
   "metadata": {
    "collapsed": false,
    "ExecuteTime": {
     "start_time": "2024-03-15T06:42:41.736435Z"
    }
   },
   "id": "331bba69780d8941",
   "execution_count": null
  },
  {
   "cell_type": "markdown",
   "source": [
    "Как можем увидеть файлов такое же количество в cropped и в symbols:"
   ],
   "metadata": {
    "collapsed": false
   },
   "id": "84c913256c626ef2"
  },
  {
   "cell_type": "markdown",
   "source": [
    "![](./static/4.png)"
   ],
   "metadata": {
    "collapsed": false
   },
   "id": "facb4f6eb9f91047"
  },
  {
   "cell_type": "markdown",
   "source": [
    "Т.к. они импортированы выведем их в виде изображений:"
   ],
   "metadata": {
    "collapsed": false
   },
   "id": "16b1deab889a580d"
  },
  {
   "cell_type": "code",
   "outputs": [],
   "source": [
    "import matplotlib.pyplot as plt\n",
    "import random\n",
    "print('Данные cropped:')\n",
    "plt.imshow(plt.imread(cropped_data[random.randint(0,len(cropped_data))]))"
   ],
   "metadata": {
    "collapsed": false,
    "ExecuteTime": {
     "start_time": "2024-03-15T06:42:41.737666Z"
    }
   },
   "id": "5441919170964d3e",
   "execution_count": null
  },
  {
   "cell_type": "code",
   "outputs": [],
   "source": [
    "print('Данные symbols:')\n",
    "plt.imshow(plt.imread(symbols_data[0][random.randint(0,len(symbols_data[0]))]))"
   ],
   "metadata": {
    "collapsed": false,
    "ExecuteTime": {
     "start_time": "2024-03-15T06:42:41.738887Z"
    }
   },
   "id": "9283fe4803483484",
   "execution_count": null
  },
  {
   "cell_type": "code",
   "outputs": [],
   "source": [
    "print('Данные licenses:')\n",
    "plt.imshow(plt.imread(files_img[random.randint(0,len(files_img))]))"
   ],
   "metadata": {
    "collapsed": false
   },
   "id": "a7f60f7447fbd068",
   "execution_count": null
  },
  {
   "cell_type": "markdown",
   "source": [
    "Никаких ошибок импорта замечено не было."
   ],
   "metadata": {
    "collapsed": false
   },
   "id": "c106f4b25f628f55"
  },
  {
   "cell_type": "markdown",
   "source": [
    "# Обучение нейросети"
   ],
   "metadata": {
    "collapsed": false
   },
   "id": "8002d970d91b0d94"
  },
  {
   "cell_type": "markdown",
   "source": [
    "Для начала чтобы обучить нашу нейросеть нужно создать файл импорта наших данных в модель при её обучении"
   ],
   "metadata": {
    "collapsed": false
   },
   "id": "5565df40597ddf47"
  },
  {
   "cell_type": "markdown",
   "source": [
    "Примерами таких файлов являются данные с расширением .yaml в директории ./yolov5/data, по этому примеру создаём наш файл для импорта всех данных:"
   ],
   "metadata": {
    "collapsed": false
   },
   "id": "bb0e0b1817c4e30d"
  },
  {
   "cell_type": "code",
   "outputs": [],
   "source": [
    "import yaml\n",
    "data = {\n",
    "    'train': '../data/train',\n",
    "    'val': '../data/val',\n",
    "    'names': {0 : 'license_plate'}\n",
    "}\n",
    "with open('./yolov5/data/dataset.yaml','w') as f:\n",
    "    yaml.dump(data,f)"
   ],
   "metadata": {
    "collapsed": false,
    "ExecuteTime": {
     "start_time": "2024-03-15T06:42:41.740995Z"
    }
   },
   "id": "208885f7d44f69b9",
   "execution_count": null
  },
  {
   "cell_type": "markdown",
   "source": [
    "далее можем запустить модель с помощью команды: python train.py --epochs 1 --img 640 --batch 8 --data dataset.yaml --weights yolov5n.pt --cache и проверить что наши данные из разделённого на подкаталоги датасета из заданных данных загружаются в модель без ошибок и полностью:"
   ],
   "metadata": {
    "collapsed": false
   },
   "id": "bd62dfdf4fa1a9bb"
  },
  {
   "cell_type": "markdown",
   "source": [
    "![](./static/5.png)"
   ],
   "metadata": {
    "collapsed": false
   },
   "id": "7d5527ea05465963"
  },
  {
   "cell_type": "markdown",
   "source": [
    "### Код обучения нейросети:"
   ],
   "metadata": {
    "collapsed": false
   },
   "id": "1446166d32a3ebd2"
  },
  {
   "cell_type": "markdown",
   "source": [
    "Модель yolov5 обучается на предобработанных данных с определённой структурой через команду в терминале, которая вызывает train.py и назначает для обучения различные параметры."
   ],
   "metadata": {
    "collapsed": false
   },
   "id": "5b74d73522833acc"
  },
  {
   "cell_type": "markdown",
   "source": [
    "для того чтобы вызвать train.py и назначить остальные параметры перейдём в директорию ./yolov5 с помощью команды в терминале:"
   ],
   "metadata": {
    "collapsed": false
   },
   "id": "8ce7b41f458c0ae7"
  },
  {
   "cell_type": "markdown",
   "source": [
    "cd yolov5"
   ],
   "metadata": {
    "collapsed": false
   },
   "id": "ebeb15da006bc6c8"
  },
  {
   "cell_type": "markdown",
   "source": [
    "в этом же терминале __*согласно нашему алгоритму обучения*__ введём команду которая начнёт обучение модели:"
   ],
   "metadata": {
    "collapsed": false
   },
   "id": "b71e0e23589af6ee"
  },
  {
   "cell_type": "code",
   "outputs": [],
   "source": [
    "!python train.py '''файл для обучения''' --img 244 '''размер изображений''' --batch 10 '''сколько изображений за один раз(батч)''' --epochs 10 '''сколько эпох модель будет обучаться''' --data dataset.yaml '''файл импорта данных''' --weights yolov5n.pt '''веса модели, которые обучаются''' --cache '''сохранение кэша данных для лучшей работы модели''' --nosave '''сохранение только последних лучших весов модели(чтобы не использовать много памяти)''' --optimizer Adam '''назначение оптимизатора модели''' --workers 0 '''сколько устройст будет применятся в загрузке(0 - все которые способны на это)''' --label-smoothing 0.0 '''параметр сглаживания класса в модели''' --patience 5 '''параметр 'терпения' модели(если на n количество эпох ошибка не уменьшилась то модель сохраняет веса)''' --freeze 0 '''заморозка некоторых слоёв модели(0 - не замораживать слои)'''"
   ],
   "metadata": {
    "collapsed": false,
    "ExecuteTime": {
     "start_time": "2024-03-15T06:42:41.743271Z"
    }
   },
   "id": "da5eed8205b95892"
  },
  {
   "cell_type": "markdown",
   "source": [
    "в терминале это должно выглядеть вот так:"
   ],
   "metadata": {
    "collapsed": false
   },
   "id": "13d776701cb47c4d"
  },
  {
   "cell_type": "markdown",
   "source": [
    "![](./static/6.png)"
   ],
   "metadata": {
    "collapsed": false
   },
   "id": "781fbb7c6d4bbc9f"
  },
  {
   "cell_type": "markdown",
   "source": [
    "И для выхода из директории yolov5 после обучения используем команду:"
   ],
   "metadata": {
    "collapsed": false
   },
   "id": "c2fa94d096f7475"
  },
  {
   "cell_type": "markdown",
   "source": [
    "cd ../"
   ],
   "metadata": {
    "collapsed": false
   },
   "id": "4b643c280a2b04c3"
  },
  {
   "cell_type": "markdown",
   "source": [
    "Как я уже говорил при разработке алгоритма обучения я старался снизить количество используемой памяти моделью разными способами. Поэтому загруженная __модель не использует слишком большое количество памяти__. Кроме того, __при обучении никаких ошибок и предупреждений не возникало__."
   ],
   "metadata": {
    "collapsed": false
   },
   "id": "8c209a20c03177b5"
  },
  {
   "cell_type": "markdown",
   "source": [
    "Использование памяти из 16 возможных ГБ:"
   ],
   "metadata": {
    "collapsed": false
   },
   "id": "6c986cd1cc10f199"
  },
  {
   "cell_type": "markdown",
   "source": [
    "![](./static/8.png)"
   ],
   "metadata": {
    "collapsed": false
   },
   "id": "530d57ef881909bf"
  },
  {
   "cell_type": "markdown",
   "source": [
    "И использование оперативной памяти когда модель импортирована:"
   ],
   "metadata": {
    "collapsed": false
   },
   "id": "bcb48b98e711bb66"
  },
  {
   "cell_type": "markdown",
   "source": [
    "Импорт модели:"
   ],
   "metadata": {
    "collapsed": false
   },
   "id": "ec48903111413189"
  },
  {
   "cell_type": "code",
   "outputs": [],
   "source": [
    "import torch\n",
    "model = torch.hub.load('./yolov5', 'custom', path='./yolov5/runs/train/exp6/weights/last.pt' ,source='local')  \n",
    "im = './Result_A/licenses/images/1_11_2014_12_26_41_293.jpg'  \n",
    "results = model(im)  \n",
    "results.show() # or .show(), .save(), .crop(), .pandas(), etc."
   ],
   "metadata": {
    "collapsed": false,
    "ExecuteTime": {
     "start_time": "2024-03-15T06:42:41.744419Z"
    }
   },
   "id": "5fbe22f58f3faeb2",
   "execution_count": null
  },
  {
   "cell_type": "markdown",
   "source": [
    "Как видим оперативной памяти модель использует очень малое количество, вот в сравнении pycharm с заруженной моделью и без:"
   ],
   "metadata": {
    "collapsed": false
   },
   "id": "e11debcaeee9b08f"
  },
  {
   "cell_type": "markdown",
   "source": [
    "![](./static/9.png)"
   ],
   "metadata": {
    "collapsed": false
   },
   "id": "ab19aceb41924003"
  },
  {
   "cell_type": "markdown",
   "source": [
    "порядка 1.2 ГБ"
   ],
   "metadata": {
    "collapsed": false
   },
   "id": "bd404a13aa52e894"
  },
  {
   "cell_type": "markdown",
   "source": [
    "Обучение:"
   ],
   "metadata": {
    "collapsed": false
   },
   "id": "dcc7ca95a02a905e"
  },
  {
   "cell_type": "markdown",
   "source": [
    "![](./static/7.png)"
   ],
   "metadata": {
    "collapsed": false
   },
   "id": "984090c7da83f0a8"
  },
  {
   "cell_type": "markdown",
   "source": [
    "Обучение прошло без ошибок, результат сохранился в директорию ./yolov5/runs/train/exp6/weights/last.pt(директория exp6 потому что в предыдущих exp-exp5 проводились тесты модели для подбора параметров)"
   ],
   "metadata": {
    "collapsed": false
   },
   "id": "42d99a1625cc0691"
  },
  {
   "cell_type": "markdown",
   "source": [
    "Как можем убедиться на картинке модель обучилась с хорошей точностью для узких и не самых лучших параметров(в угоду скорости и во избежание затрат памяти)"
   ],
   "metadata": {
    "collapsed": false
   },
   "id": "19720833c4311e59"
  },
  {
   "cell_type": "markdown",
   "source": [
    "![](./yolov5/runs/train/exp6/train_batch0.jpg)"
   ],
   "metadata": {
    "collapsed": false
   },
   "id": "8b57bbcee8489ae2"
  },
  {
   "cell_type": "markdown",
   "source": [
    "Сохраним файл обученной модели"
   ],
   "metadata": {
    "collapsed": false
   },
   "id": "3987a46fb2c91952"
  },
  {
   "cell_type": "code",
   "outputs": [],
   "source": [
    "import pickle\n",
    "model = torch.hub.load('./yolov5', 'custom', path='./yolov5/runs/train/exp6/weights/last.pt' ,source='local')  \n",
    "with open('./model.pickle','wb') as f:\n",
    "    pickle.dump(model,f)"
   ],
   "metadata": {
    "collapsed": false,
    "ExecuteTime": {
     "start_time": "2024-03-15T06:42:41.745594Z"
    }
   },
   "id": "5a257d03531d3af3",
   "execution_count": null
  },
  {
   "cell_type": "markdown",
   "source": [
    "И скопируем веса нашей модели в основную папку модуля"
   ],
   "metadata": {
    "collapsed": false
   },
   "id": "c3b2295896a6e187"
  },
  {
   "cell_type": "code",
   "outputs": [],
   "source": [
    "import shutil\n",
    "shutil.copy('./yolov5/runs/train/exp6/weights/last.pt','./')"
   ],
   "metadata": {
    "collapsed": false,
    "ExecuteTime": {
     "start_time": "2024-03-15T06:42:41.746673Z"
    }
   },
   "id": "124a59b6acd27e7",
   "execution_count": null
  },
  {
   "cell_type": "markdown",
   "source": [
    "# Разработка и создание API"
   ],
   "metadata": {
    "collapsed": false
   },
   "id": "338f8084805730e8"
  },
  {
   "cell_type": "markdown",
   "source": [
    "### Получение изображения с помощью функции"
   ],
   "metadata": {
    "collapsed": false
   },
   "id": "8477ea11bb499ceb"
  },
  {
   "cell_type": "markdown",
   "source": [
    "Получение изображения я сделал по пути к самому изображению. В функцию вводится путь к изображению и функция получает данные фото, которые далее выводит в формате массива"
   ],
   "metadata": {
    "collapsed": false
   },
   "id": "3eb1293b7d41d4f4"
  },
  {
   "cell_type": "code",
   "outputs": [],
   "source": [
    "def take_picture(path):\n",
    "    import cv2\n",
    "    img = cv2.imread(path)\n",
    "    return img\n",
    "result = take_picture(r'./Result_A/licenses/images/1_11_2014_12_30_51_262.jpg')\n",
    "result"
   ],
   "metadata": {
    "collapsed": false,
    "ExecuteTime": {
     "start_time": "2024-03-15T06:42:41.746673Z"
    }
   },
   "id": "89680b1b9addca9f",
   "execution_count": null
  },
  {
   "cell_type": "markdown",
   "source": [
    "Которую можно потом отобразить и сделать с ней всё что угодно"
   ],
   "metadata": {
    "collapsed": false
   },
   "id": "19179d76ed385302"
  },
  {
   "cell_type": "code",
   "outputs": [],
   "source": [
    "plt.imshow(result)"
   ],
   "metadata": {
    "collapsed": false,
    "ExecuteTime": {
     "start_time": "2024-03-15T06:42:41.749404Z"
    }
   },
   "id": "7e22eb9aebe21806",
   "execution_count": null
  },
  {
   "cell_type": "markdown",
   "source": [
    "картинка опять чёрно-белая потому что я сдался искать эту настройку с тем что графики не меняют цвет при изменении темы"
   ],
   "metadata": {
    "collapsed": false
   },
   "id": "e83f31b2a62a7fef"
  },
  {
   "cell_type": "markdown",
   "source": [
    "### Получение результата предсказаний модели"
   ],
   "metadata": {
    "collapsed": false
   },
   "id": "e6072185b6b79cc9"
  },
  {
   "cell_type": "markdown",
   "source": [
    "Функция состоит из загрузки в себе двух моделей, кропа изображения полученного из прошлой функции и распознавания текста с помощью easyocr "
   ],
   "metadata": {
    "collapsed": false
   },
   "id": "7a421d0d3abab1bb"
  },
  {
   "cell_type": "code",
   "outputs": [],
   "source": [
    "def predicts(img):\n",
    "    import torch\n",
    "    import easyocr\n",
    "    # Кропп изображения\n",
    "    model = torch.hub.load('./yolov5', 'custom', path='./yolov5/runs/train/exp6/weights/last.pt' ,source='local')# Обозначение модели кропа детекции изображений\n",
    "    results = model(img) # Детекция номеров на изображении\n",
    "    if not results.xyxy[0].nelement() == 0:\n",
    "        crop_xy = list(map(int,(results.xyxy[0].detach().flatten()[0],results.xyxy[0].detach().flatten()[1],results.xyxy[0].detach().flatten()[2],results.xyxy[0].detach().flatten()[3]))) # преобразование результатов детекции в формат xyxy\n",
    "        img = img[crop_xy[1]:crop_xy[3],crop_xy[0]:crop_xy[2]] # Кропп изображения слайсингом\n",
    "        # Чтение надписей на изображении\n",
    "        reader = easyocr.Reader(['en','ru'],gpu = False) # обозначение модели читающей текст с картинки\n",
    "        result = reader.readtext(img) # работа модели по прочтению текста\n",
    "        # Преобразование результата в понятную форму и вывод результата\n",
    "        result = [result[i][1] for i in range(len(result))]\n",
    "        for res in result:\n",
    "            print(res)\n",
    "        return result\n",
    "    return 'Номер не распознан'\n",
    "    \n",
    "result = predicts(take_picture(r'C:\\Users\\Participant\\Desktop\\Rudnev\\Module b\\Result_A\\licenses\\images\\1_11_2014_12_40_55_90.jpg'))\n",
    "print(result)"
   ],
   "metadata": {
    "collapsed": false,
    "ExecuteTime": {
     "start_time": "2024-03-15T06:42:41.752698Z"
    }
   },
   "id": "fdf4c6d56642e7aa",
   "execution_count": null
  },
  {
   "cell_type": "markdown",
   "source": [
    "Как можем увидеть модель правильно прочитала серию и номер автомобиля"
   ],
   "metadata": {
    "collapsed": false
   },
   "id": "852efd1ff59e0b59"
  },
  {
   "cell_type": "markdown",
   "source": [
    "![](.\\Result_A\\licenses\\images\\1_11_2014_12_40_55_90.jpg)"
   ],
   "metadata": {
    "collapsed": false
   },
   "id": "a1dcfb240938cea5"
  },
  {
   "cell_type": "markdown",
   "source": [
    "### Юнит тестирование"
   ],
   "metadata": {
    "collapsed": false
   },
   "id": "586bd8fdec9bcd8d"
  },
  {
   "cell_type": "markdown",
   "source": [
    "Все юнит тесты производились в директории ./unit в файлах с расширением .py"
   ],
   "metadata": {
    "collapsed": false
   },
   "id": "e39fcdd0ee4de0d2"
  },
  {
   "cell_type": "markdown",
   "source": [
    "### Тестирование получения изображения(take_picture_tests.py):"
   ],
   "metadata": {
    "collapsed": false
   },
   "id": "bd99907bd9fbbd22"
  },
  {
   "cell_type": "markdown",
   "source": [
    "![](./static/10.png)"
   ],
   "metadata": {
    "collapsed": false
   },
   "id": "9627f27e5a1d7b21"
  },
  {
   "cell_type": "markdown",
   "source": [
    "Вводим команду:"
   ],
   "metadata": {
    "collapsed": false
   },
   "id": "6e67d0867d97a4bc"
  },
  {
   "cell_type": "markdown",
   "source": [
    "![](./static/11.png)"
   ],
   "metadata": {
    "collapsed": false
   },
   "id": "cdd654267bd87549"
  },
  {
   "cell_type": "markdown",
   "source": [
    "И получаем ответ от нашего кода что все тесты прошли нормально"
   ],
   "metadata": {
    "collapsed": false
   },
   "id": "b66a8bb4c7e6deaa"
  },
  {
   "cell_type": "markdown",
   "source": [
    "![](./static/12.png)"
   ],
   "metadata": {
    "collapsed": false
   },
   "id": "8296856aa8268717"
  },
  {
   "cell_type": "markdown",
   "source": [
    "### Также с функцией для вывода результата(prediction_tests.py):"
   ],
   "metadata": {
    "collapsed": false
   },
   "id": "4bf70a77725d624d"
  },
  {
   "cell_type": "markdown",
   "source": [
    "![](./static/13.png)"
   ],
   "metadata": {
    "collapsed": false
   },
   "id": "f2082194ebe5e78f"
  },
  {
   "cell_type": "markdown",
   "source": [
    "![](./static/14.png)"
   ],
   "metadata": {
    "collapsed": false
   },
   "id": "4ca534232ead7020"
  },
  {
   "cell_type": "markdown",
   "source": [
    "![](./static/15.png)"
   ],
   "metadata": {
    "collapsed": false
   },
   "id": "14a4caa2d0633366"
  },
  {
   "cell_type": "markdown",
   "source": [
    "### Приложение"
   ],
   "metadata": {
    "collapsed": false
   },
   "id": "a2e357c5d185de2e"
  },
  {
   "cell_type": "markdown",
   "source": [
    "Приложение для распознавания автомобильных номеров было создано в директории ./api на библиотеке streamlit"
   ],
   "metadata": {
    "collapsed": false
   },
   "id": "c8e63f45903581bc"
  },
  {
   "cell_type": "markdown",
   "source": [
    "Для запуска понадобятся нужные для распознавания библиотеки, всё содержимое папки api и команда следующего характера:"
   ],
   "metadata": {
    "collapsed": false
   },
   "id": "f3b316267043ad33"
  },
  {
   "cell_type": "markdown",
   "source": [
    "![](./static/17.png)"
   ],
   "metadata": {
    "collapsed": false
   },
   "id": "996c329469f2a146"
  },
  {
   "cell_type": "markdown",
   "source": [
    "Вот так примерно должна выглядеть работающее api:"
   ],
   "metadata": {
    "collapsed": false
   },
   "id": "3ed3a8c43c470892"
  },
  {
   "cell_type": "code",
   "outputs": [],
   "source": [
    "![](./static/18.png)"
   ],
   "metadata": {
    "collapsed": false
   },
   "id": "dd503ac822ee8c4e"
  },
  {
   "cell_type": "markdown",
   "source": [
    "Вводите путь к изображению на компьютере, нажимаете enter и без должной молитвы тут не обойтись"
   ],
   "metadata": {
    "collapsed": false
   },
   "id": "c4d535b3d8d8d034"
  },
  {
   "cell_type": "markdown",
   "source": [
    "В файле requirements.txt находятся все используемые мной библиотеки, возможно, если вы всё таки захотите открыть мою апи, оно вам понадобится."
   ],
   "metadata": {
    "collapsed": false
   },
   "id": "b05d0af18e12f9bd"
  },
  {
   "cell_type": "code",
   "outputs": [],
   "source": [
    "Чтобы установить библиотеки можно прописать: pip install -r requirements.txt помоему 🤔"
   ],
   "metadata": {
    "collapsed": false,
    "ExecuteTime": {
     "start_time": "2024-03-15T06:42:41.753839Z"
    }
   },
   "id": "c234558fee2e583d"
  },
  {
   "cell_type": "markdown",
   "source": [
    "Либо на моём компьютере откройте и надеюсь сработает"
   ],
   "metadata": {
    "collapsed": false
   },
   "id": "d320da1818de2c7e"
  },
  {
   "cell_type": "markdown",
   "source": [
    "### Документация"
   ],
   "metadata": {
    "collapsed": false
   },
   "id": "c3a1067af74be2fb"
  },
  {
   "cell_type": "markdown",
   "source": [
    "Документация к моему апи я создал в директории Rudnev/Module b/"
   ],
   "metadata": {
    "collapsed": false
   },
   "id": "3e5f2f84f6711042"
  },
  {
   "cell_type": "markdown",
   "source": [
    "![](./static/сердешки.png)"
   ],
   "metadata": {
    "collapsed": false
   },
   "id": "9cc80af0e22a5f43"
  }
 ],
 "metadata": {
  "kernelspec": {
   "display_name": "Python 3",
   "language": "python",
   "name": "python3"
  },
  "language_info": {
   "codemirror_mode": {
    "name": "ipython",
    "version": 2
   },
   "file_extension": ".py",
   "mimetype": "text/x-python",
   "name": "python",
   "nbconvert_exporter": "python",
   "pygments_lexer": "ipython2",
   "version": "2.7.6"
  }
 },
 "nbformat": 4,
 "nbformat_minor": 5
}
