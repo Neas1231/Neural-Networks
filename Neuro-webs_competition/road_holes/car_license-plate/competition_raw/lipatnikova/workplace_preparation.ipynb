{
 "cells": [
  {
   "cell_type": "markdown",
   "metadata": {},
   "source": [
    "# Подготова рабочего места"
   ]
  },
  {
   "cell_type": "markdown",
   "metadata": {},
   "source": [
    "Для работы с разметкой на фотографиях (проверкой пропусков и заполнения пропусков)"
   ]
  },
  {
   "cell_type": "code",
   "execution_count": 2,
   "metadata": {},
   "outputs": [
    {
     "name": "stderr",
     "output_type": "stream",
     "text": [
      "Cloning into 'YOLO-Annotation-Tool'...\n"
     ]
    }
   ],
   "source": [
    "!git clone https://github.com/ManzarIMalik/YOLO-Annotation-Tool.git"
   ]
  },
  {
   "cell_type": "markdown",
   "metadata": {},
   "source": [
    "Через терминал устанавливаем след библеотеки:\n",
    "\n",
    "- streamlit (для создания АПИ)\n",
    "\n",
    "- tqdm (требуется в некоторых библиотеках)\n",
    "\n",
    "- PIL/pillow (для работы с изображеними, может понадобиться в АПИ)\n",
    "\n",
    "- torch, tochvision, torchaudio (для работы модели)\n",
    "\n",
    "- pathlib (для работы с папками и файлами)\n",
    "\n",
    "- numpy (требуется в других библиотеках)\n",
    "\n",
    "- opencv-python (требуется в других библиотеках)\n",
    "\n",
    "- imagesize (требуется в других библиотеках)\n",
    "\n",
    "- easyocr (предобученная модель для распознавания текста)\n",
    "\n",
    "- scikit-learn (для разделения наших данных на тестовые, обучающие и валидационные)"
   ]
  },
  {
   "cell_type": "markdown",
   "metadata": {},
   "source": [
    "Для создания единого файла разметки"
   ]
  },
  {
   "cell_type": "code",
   "execution_count": 5,
   "metadata": {},
   "outputs": [
    {
     "name": "stderr",
     "output_type": "stream",
     "text": [
      "Cloning into 'Yolo-to-COCO-format-converter'...\n"
     ]
    }
   ],
   "source": [
    "!git clone https://github.com/Taeyoung96/Yolo-to-COCO-format-converter.git"
   ]
  },
  {
   "cell_type": "markdown",
   "metadata": {},
   "source": [
    "Сама модель для распознавания объектов"
   ]
  },
  {
   "cell_type": "code",
   "execution_count": 6,
   "metadata": {},
   "outputs": [
    {
     "name": "stderr",
     "output_type": "stream",
     "text": [
      "Cloning into 'yolov5'...\n"
     ]
    }
   ],
   "source": [
    "!git clone https://github.com/ultralytics/yolov5"
   ]
  },
  {
   "cell_type": "markdown",
   "metadata": {},
   "source": [
    "Проверяем есть ли библиотека для UNIT тестов"
   ]
  },
  {
   "cell_type": "code",
   "execution_count": null,
   "metadata": {},
   "outputs": [],
   "source": [
    "import unittest"
   ]
  },
  {
   "cell_type": "code",
   "execution_count": 2,
   "metadata": {},
   "outputs": [
    {
     "name": "stdout",
     "output_type": "stream",
     "text": [
      "Requirement already satisfied: torch in c:\\users\\participant\\appdata\\local\\programs\\python\\python312\\lib\\site-packages (2.2.1+cu118)\n",
      "Requirement already satisfied: filelock in c:\\users\\participant\\appdata\\local\\programs\\python\\python312\\lib\\site-packages (from torch) (3.9.0)\n",
      "Requirement already satisfied: typing-extensions>=4.8.0 in c:\\users\\participant\\appdata\\local\\programs\\python\\python312\\lib\\site-packages (from torch) (4.10.0)\n",
      "Requirement already satisfied: sympy in c:\\users\\participant\\appdata\\local\\programs\\python\\python312\\lib\\site-packages (from torch) (1.12)\n",
      "Requirement already satisfied: networkx in c:\\users\\participant\\appdata\\local\\programs\\python\\python312\\lib\\site-packages (from torch) (3.2.1)\n",
      "Requirement already satisfied: jinja2 in c:\\users\\participant\\appdata\\local\\programs\\python\\python312\\lib\\site-packages (from torch) (3.1.3)\n",
      "Requirement already satisfied: fsspec in c:\\users\\participant\\appdata\\local\\programs\\python\\python312\\lib\\site-packages (from torch) (2023.4.0)\n",
      "Requirement already satisfied: MarkupSafe>=2.0 in c:\\users\\participant\\appdata\\local\\programs\\python\\python312\\lib\\site-packages (from jinja2->torch) (2.1.5)\n",
      "Requirement already satisfied: mpmath>=0.19 in c:\\users\\participant\\appdata\\local\\programs\\python\\python312\\lib\\site-packages (from sympy->torch) (1.3.0)\n"
     ]
    }
   ],
   "source": [
    "!pip install torch"
   ]
  },
  {
   "cell_type": "code",
   "execution_count": 2,
   "metadata": {},
   "outputs": [
    {
     "data": {
      "text/plain": [
       "False"
      ]
     },
     "execution_count": 2,
     "metadata": {},
     "output_type": "execute_result"
    }
   ],
   "source": [
    "# провера работает ли torch\n",
    "import torch\n",
    "torch.cuda.is_available()"
   ]
  },
  {
   "cell_type": "markdown",
   "metadata": {},
   "source": [
    "Также надо скачать веса для нашей модели, скачаем два файла, одни веса с более меньшей точностью, так как там меньше всего параметров (yolov5n), у вторых же более высокое кол-во параметров (yolov5s)\n",
    "\n",
    "Скачены они были по ссылкам в документации YOLO"
   ]
  },
  {
   "cell_type": "markdown",
   "metadata": {},
   "source": [
    "Проверяем скачались ли все библиотеки для использования модели"
   ]
  },
  {
   "cell_type": "code",
   "execution_count": 9,
   "metadata": {},
   "outputs": [
    {
     "name": "stdout",
     "output_type": "stream",
     "text": [
      "^C\n"
     ]
    },
    {
     "name": "stdout",
     "output_type": "stream",
     "text": [
      "\u001b[31m\u001b[1mrequirements:\u001b[0m Ultralytics requirement ['wheel>=0.38.0'] not found, attempting AutoUpdate...\n",
      "Collecting wheel>=0.38.0\n",
      "\n",
      "  Downloading wheel-0.43.0-py3-none-any.whl.metadata (2.2 kB)\n",
      "\n",
      "Downloading wheel-0.43.0-py3-none-any.whl (65 kB)\n",
      "\n",
      "   ---------------------------------------- 0.0/65.8 kB ? eta -:--:--\n",
      "   ---------------------------------------- 0.0/65.8 kB ? eta -:--:--\n",
      "   ------ --------------------------------- 10.2/65.8 kB ? eta -:--:--\n",
      "   ------ --------------------------------- 10.2/65.8 kB ? eta -:--:--\n",
      "   ------------------------ --------------- 41.0/65.8 kB 326.8 kB/s eta 0:00:01\n",
      "   ---------------------------------------- 65.8/65.8 kB 444.3 kB/s eta 0:00:00\n",
      "\n",
      "Installing collected packages: wheel\n",
      "\n",
      "Successfully installed wheel-0.43.0\n",
      "\n",
      "\n",
      "\u001b[31m\u001b[1mrequirements:\u001b[0m AutoUpdate success ✅ 5.9s, installed 1 package: ['wheel>=0.38.0']\n",
      "\u001b[31m\u001b[1mrequirements:\u001b[0m ⚠️ \u001b[1mRestart runtime or rerun command for updates to take effect\u001b[0m\n",
      "\n"
     ]
    },
    {
     "name": "stderr",
     "output_type": "stream",
     "text": [
      "\u001b[34m\u001b[1mtrain: \u001b[0mweights=yolov5n.pt, cfg=, data=yolov5\\data\\coco128.yaml, hyp=yolov5\\data\\hyps\\hyp.scratch-low.yaml, epochs=1, batch_size=16, imgsz=640, rect=False, resume=False, nosave=False, noval=False, noautoanchor=False, noplots=False, evolve=None, evolve_population=yolov5\\data\\hyps, resume_evolve=None, bucket=, cache=None, image_weights=False, device=, multi_scale=False, single_cls=False, optimizer=SGD, sync_bn=False, workers=8, project=yolov5\\runs\\train, name=exp, exist_ok=False, quad=False, cos_lr=False, label_smoothing=0.0, patience=100, freeze=[0], save_period=-1, seed=0, local_rank=-1, entity=None, upload_dataset=False, bbox_interval=-1, artifact_alias=latest, ndjson_console=False, ndjson_file=False\n",
      "\u001b[34m\u001b[1mgithub: \u001b[0mup to date with https://github.com/ultralytics/yolov5 \n",
      "YOLOv5  v7.0-294-gdb125a20 Python-3.12.2 torch-2.2.1+cu118 CPU\n",
      "\n",
      "\u001b[34m\u001b[1mhyperparameters: \u001b[0mlr0=0.01, lrf=0.01, momentum=0.937, weight_decay=0.0005, warmup_epochs=3.0, warmup_momentum=0.8, warmup_bias_lr=0.1, box=0.05, cls=0.5, cls_pw=1.0, obj=1.0, obj_pw=1.0, iou_t=0.2, anchor_t=4.0, fl_gamma=0.0, hsv_h=0.015, hsv_s=0.7, hsv_v=0.4, degrees=0.0, translate=0.1, scale=0.5, shear=0.0, perspective=0.0, flipud=0.0, fliplr=0.5, mosaic=1.0, mixup=0.0, copy_paste=0.0\n",
      "\u001b[34m\u001b[1mComet: \u001b[0mrun 'pip install comet_ml' to automatically track and visualize YOLOv5  runs in Comet\n",
      "\u001b[34m\u001b[1mTensorBoard: \u001b[0mStart with 'tensorboard --logdir yolov5\\runs\\train', view at http://localhost:6006/\n",
      "\n",
      "Dataset not found , missing paths ['C:\\\\Users\\\\Participant\\\\Desktop\\\\lipatnikova\\\\datasets\\\\coco128\\\\images\\\\train2017']\n",
      "Downloading https://ultralytics.com/assets/coco128.zip to coco128.zip...\n",
      "\n",
      "  0%|          | 0.00/6.66M [00:00<?, ?B/s]\n",
      "  1%|          | 40.0k/6.66M [00:00<00:21, 327kB/s]\n",
      "  4%|▎         | 248k/6.66M [00:00<00:05, 1.25MB/s]\n",
      "  6%|▌         | 384k/6.66M [00:00<00:05, 1.24MB/s]\n",
      " 11%|█         | 760k/6.66M [00:00<00:02, 2.14MB/s]\n",
      " 17%|█▋        | 1.10M/6.66M [00:00<00:02, 2.67MB/s]\n",
      " 22%|██▏       | 1.49M/6.66M [00:00<00:01, 3.12MB/s]\n",
      " 28%|██▊       | 1.88M/6.66M [00:00<00:01, 3.28MB/s]\n",
      " 34%|███▍      | 2.27M/6.66M [00:00<00:01, 3.51MB/s]\n",
      " 40%|████      | 2.68M/6.66M [00:00<00:01, 3.71MB/s]\n",
      " 46%|████▌     | 3.04M/6.66M [00:01<00:01, 3.41MB/s]\n",
      " 51%|█████     | 3.38M/6.66M [00:01<00:01, 2.98MB/s]\n",
      " 55%|█████▌    | 3.67M/6.66M [00:01<00:01, 2.15MB/s]\n",
      " 59%|█████▉    | 3.91M/6.66M [00:01<00:01, 1.49MB/s]\n",
      " 62%|██████▏   | 4.11M/6.66M [00:02<00:03, 834kB/s] \n",
      " 64%|██████▍   | 4.26M/6.66M [00:04<00:10, 250kB/s]\n",
      " 65%|██████▌   | 4.36M/6.66M [00:05<00:09, 250kB/s]\n",
      " 67%|██████▋   | 4.44M/6.66M [00:05<00:08, 272kB/s]\n",
      " 68%|██████▊   | 4.51M/6.66M [00:06<00:09, 228kB/s]\n",
      " 69%|██████▊   | 4.56M/6.66M [00:06<00:10, 208kB/s]\n",
      " 69%|██████▉   | 4.61M/6.66M [00:06<00:10, 208kB/s]\n",
      " 70%|███████   | 4.66M/6.66M [00:06<00:08, 238kB/s]\n",
      " 71%|███████   | 4.74M/6.66M [00:07<00:06, 301kB/s]\n",
      " 73%|███████▎  | 4.84M/6.66M [00:07<00:04, 387kB/s]\n",
      " 74%|███████▍  | 4.93M/6.66M [00:07<00:03, 474kB/s]\n",
      " 75%|███████▌  | 5.00M/6.66M [00:07<00:03, 486kB/s]\n",
      " 76%|███████▌  | 5.07M/6.66M [00:07<00:03, 454kB/s]\n",
      " 77%|███████▋  | 5.13M/6.66M [00:07<00:03, 474kB/s]\n",
      " 78%|███████▊  | 5.20M/6.66M [00:07<00:03, 487kB/s]\n",
      " 79%|███████▉  | 5.26M/6.66M [00:07<00:03, 476kB/s]\n",
      " 80%|███████▉  | 5.32M/6.66M [00:08<00:02, 510kB/s]\n",
      " 81%|████████  | 5.38M/6.66M [00:08<00:02, 535kB/s]\n",
      " 82%|████████▏ | 5.44M/6.66M [00:08<00:02, 486kB/s]\n",
      " 82%|████████▏ | 5.49M/6.66M [00:08<00:02, 478kB/s]\n",
      " 84%|████████▍ | 5.59M/6.66M [00:08<00:01, 599kB/s]\n",
      " 86%|████████▌ | 5.70M/6.66M [00:08<00:01, 717kB/s]\n",
      " 87%|████████▋ | 5.82M/6.66M [00:08<00:01, 873kB/s]\n",
      " 89%|████████▉ | 5.93M/6.66M [00:08<00:00, 942kB/s]\n",
      " 91%|█████████ | 6.05M/6.66M [00:08<00:00, 1.01MB/s]\n",
      " 93%|█████████▎| 6.23M/6.66M [00:09<00:00, 1.18MB/s]\n",
      " 96%|█████████▋| 6.41M/6.66M [00:09<00:00, 1.39MB/s]\n",
      "100%|█████████▉| 6.65M/6.66M [00:09<00:00, 1.64MB/s]\n",
      "100%|██████████| 6.66M/6.66M [00:09<00:00, 750kB/s] \n",
      "Dataset download success  (12.5s), saved to \u001b[1mC:\\Users\\Participant\\Desktop\\lipatnikova\\datasets\u001b[0m\n",
      "Downloading https://ultralytics.com/assets/Arial.ttf to C:\\Users\\Participant\\AppData\\Roaming\\Ultralytics\\Arial.ttf...\n",
      "\n",
      "  0%|          | 0.00/755k [00:00<?, ?B/s]\n",
      "  5%|▌         | 40.0k/755k [00:00<00:02, 329kB/s]\n",
      " 36%|███▌      | 272k/755k [00:00<00:00, 1.40MB/s]\n",
      "100%|██████████| 755k/755k [00:00<00:00, 2.63MB/s]\n",
      "\n",
      "                 from  n    params  module                                  arguments                     \n",
      "  0                -1  1      1760  models.common.Conv                      [3, 16, 6, 2, 2]              \n",
      "  1                -1  1      4672  models.common.Conv                      [16, 32, 3, 2]                \n",
      "  2                -1  1      4800  models.common.C3                        [32, 32, 1]                   \n",
      "  3                -1  1     18560  models.common.Conv                      [32, 64, 3, 2]                \n",
      "  4                -1  2     29184  models.common.C3                        [64, 64, 2]                   \n",
      "  5                -1  1     73984  models.common.Conv                      [64, 128, 3, 2]               \n",
      "  6                -1  3    156928  models.common.C3                        [128, 128, 3]                 \n",
      "  7                -1  1    295424  models.common.Conv                      [128, 256, 3, 2]              \n",
      "  8                -1  1    296448  models.common.C3                        [256, 256, 1]                 \n",
      "  9                -1  1    164608  models.common.SPPF                      [256, 256, 5]                 \n",
      " 10                -1  1     33024  models.common.Conv                      [256, 128, 1, 1]              \n",
      " 11                -1  1         0  torch.nn.modules.upsampling.Upsample    [None, 2, 'nearest']          \n",
      " 12           [-1, 6]  1         0  models.common.Concat                    [1]                           \n",
      " 13                -1  1     90880  models.common.C3                        [256, 128, 1, False]          \n",
      " 14                -1  1      8320  models.common.Conv                      [128, 64, 1, 1]               \n",
      " 15                -1  1         0  torch.nn.modules.upsampling.Upsample    [None, 2, 'nearest']          \n",
      " 16           [-1, 4]  1         0  models.common.Concat                    [1]                           \n",
      " 17                -1  1     22912  models.common.C3                        [128, 64, 1, False]           \n",
      " 18                -1  1     36992  models.common.Conv                      [64, 64, 3, 2]                \n",
      " 19          [-1, 14]  1         0  models.common.Concat                    [1]                           \n",
      " 20                -1  1     74496  models.common.C3                        [128, 128, 1, False]          \n",
      " 21                -1  1    147712  models.common.Conv                      [128, 128, 3, 2]              \n",
      " 22          [-1, 10]  1         0  models.common.Concat                    [1]                           \n",
      " 23                -1  1    296448  models.common.C3                        [256, 256, 1, False]          \n",
      " 24      [17, 20, 23]  1    115005  models.yolo.Detect                      [80, [[10, 13, 16, 30, 33, 23], [30, 61, 62, 45, 59, 119], [116, 90, 156, 198, 373, 326]], [64, 128, 256]]\n",
      "Model summary: 214 layers, 1872157 parameters, 1872157 gradients, 4.6 GFLOPs\n",
      "\n",
      "Transferred 349/349 items from yolov5n.pt\n",
      "\u001b[34m\u001b[1moptimizer:\u001b[0m SGD(lr=0.01) with parameter groups 57 weight(decay=0.0), 60 weight(decay=0.0005), 60 bias\n",
      "\n",
      "\u001b[34m\u001b[1mtrain: \u001b[0mScanning C:\\Users\\Participant\\Desktop\\lipatnikova\\datasets\\coco128\\labels\\train2017...:   0%|          | 0/128 [00:00<?, ?it/s]\n",
      "\u001b[34m\u001b[1mtrain: \u001b[0mScanning C:\\Users\\Participant\\Desktop\\lipatnikova\\datasets\\coco128\\labels\\train2017... 1 images, 0 backgrounds, 0 corrupt:   1%|          | 1/128 [00:09<19:10,  9.06s/it]\n",
      "\u001b[34m\u001b[1mtrain: \u001b[0mScanning C:\\Users\\Participant\\Desktop\\lipatnikova\\datasets\\coco128\\labels\\train2017... 17 images, 0 backgrounds, 0 corrupt:  13%|█▎        | 17/128 [00:09<00:42,  2.59it/s]\n",
      "\u001b[34m\u001b[1mtrain: \u001b[0mScanning C:\\Users\\Participant\\Desktop\\lipatnikova\\datasets\\coco128\\labels\\train2017... 56 images, 1 backgrounds, 0 corrupt:  45%|████▍     | 57/128 [00:09<00:06, 11.18it/s]\n",
      "\u001b[34m\u001b[1mtrain: \u001b[0mScanning C:\\Users\\Participant\\Desktop\\lipatnikova\\datasets\\coco128\\labels\\train2017... 78 images, 1 backgrounds, 0 corrupt:  62%|██████▏   | 79/128 [00:09<00:02, 17.43it/s]\n",
      "\u001b[34m\u001b[1mtrain: \u001b[0mScanning C:\\Users\\Participant\\Desktop\\lipatnikova\\datasets\\coco128\\labels\\train2017... 121 images, 2 backgrounds, 0 corrupt:  96%|█████████▌| 123/128 [00:09<00:00, 34.60it/s]\n",
      "\u001b[34m\u001b[1mtrain: \u001b[0mScanning C:\\Users\\Participant\\Desktop\\lipatnikova\\datasets\\coco128\\labels\\train2017... 126 images, 2 backgrounds, 0 corrupt: 100%|██████████| 128/128 [00:09<00:00, 13.49it/s]\n",
      "\u001b[34m\u001b[1mtrain: \u001b[0mNew cache created: C:\\Users\\Participant\\Desktop\\lipatnikova\\datasets\\coco128\\labels\\train2017.cache\n",
      "\n",
      "\u001b[34m\u001b[1mval: \u001b[0mScanning C:\\Users\\Participant\\Desktop\\lipatnikova\\datasets\\coco128\\labels\\train2017.cache... 126 images, 2 backgrounds, 0 corrupt: 100%|██████████| 128/128 [00:00<?, ?it/s]\n",
      "\u001b[34m\u001b[1mval: \u001b[0mScanning C:\\Users\\Participant\\Desktop\\lipatnikova\\datasets\\coco128\\labels\\train2017.cache... 126 images, 2 backgrounds, 0 corrupt: 100%|██████████| 128/128 [00:00<?, ?it/s]\n",
      "\n",
      "\u001b[34m\u001b[1mAutoAnchor: \u001b[0m4.27 anchors/target, 0.994 Best Possible Recall (BPR). Current anchors are a good fit to dataset \n",
      "Plotting labels to yolov5\\runs\\train\\exp\\labels.jpg... \n",
      "Image sizes 640 train, 640 val\n",
      "Using 8 dataloader workers\n",
      "Logging results to \u001b[1myolov5\\runs\\train\\exp\u001b[0m\n",
      "Starting training for 1 epochs...\n",
      "\n",
      "      Epoch    GPU_mem   box_loss   obj_loss   cls_loss  Instances       Size\n",
      "\n",
      "  0%|          | 0/8 [00:00<?, ?it/s]\n",
      "        0/0         0G    0.04982    0.07298    0.02108        197        640:   0%|          | 0/8 [00:17<?, ?it/s]\n",
      "        0/0         0G    0.04982    0.07298    0.02108        197        640:  12%|█▎        | 1/8 [00:17<02:02, 17.49s/it]\n",
      "        0/0         0G    0.05054    0.06558    0.02738        154        640:  12%|█▎        | 1/8 [00:32<02:02, 17.49s/it]\n",
      "        0/0         0G    0.05054    0.06558    0.02738        154        640:  25%|██▌       | 2/8 [00:32<01:37, 16.17s/it]\n",
      "        0/0         0G    0.05111    0.06319    0.02656        150        640:  25%|██▌       | 2/8 [00:44<01:37, 16.17s/it]\n",
      "        0/0         0G    0.05111    0.06319    0.02656        150        640:  38%|███▊      | 3/8 [00:44<01:10, 14.18s/it]\n",
      "        0/0         0G    0.05135    0.06706    0.02618        248        640:  38%|███▊      | 3/8 [00:56<01:10, 14.18s/it]\n",
      "        0/0         0G    0.05135    0.06706    0.02618        248        640:  50%|█████     | 4/8 [00:56<00:53, 13.35s/it]\n",
      "        0/0         0G    0.05234    0.07138    0.02612        254        640:  50%|█████     | 4/8 [01:06<00:53, 13.35s/it]\n",
      "        0/0         0G    0.05234    0.07138    0.02612        254        640:  62%|██████▎   | 5/8 [01:06<00:36, 12.23s/it]\n",
      "        0/0         0G    0.05272    0.07357    0.02551        261        640:  62%|██████▎   | 5/8 [01:18<00:36, 12.23s/it]\n",
      "        0/0         0G    0.05272    0.07357    0.02551        261        640:  75%|███████▌  | 6/8 [01:18<00:23, 11.94s/it]\n",
      "        0/0         0G    0.05281    0.07275    0.02542        196        640:  75%|███████▌  | 6/8 [01:30<00:23, 11.94s/it]\n",
      "        0/0         0G    0.05281    0.07275    0.02542        196        640:  88%|████████▊ | 7/8 [01:30<00:12, 12.10s/it]\n",
      "        0/0         0G    0.05205    0.07262    0.02563        195        640:  88%|████████▊ | 7/8 [01:41<00:12, 12.10s/it]\n",
      "        0/0         0G    0.05205    0.07262    0.02563        195        640: 100%|██████████| 8/8 [01:41<00:00, 11.61s/it]\n",
      "        0/0         0G    0.05205    0.07262    0.02563        195        640: 100%|██████████| 8/8 [01:41<00:00, 12.65s/it]\n",
      "\n",
      "                 Class     Images  Instances          P          R      mAP50   mAP50-95:   0%|          | 0/4 [00:00<?, ?it/s]\n",
      "                 Class     Images  Instances          P          R      mAP50   mAP50-95:  25%|██▌       | 1/4 [00:05<00:16,  5.48s/it]\n",
      "                 Class     Images  Instances          P          R      mAP50   mAP50-95:  50%|█████     | 2/4 [00:11<00:11,  5.67s/it]\n",
      "                 Class     Images  Instances          P          R      mAP50   mAP50-95:  75%|███████▌  | 3/4 [00:20<00:07,  7.10s/it]\n",
      "                 Class     Images  Instances          P          R      mAP50   mAP50-95: 100%|██████████| 4/4 [00:26<00:00,  6.84s/it]\n",
      "                 Class     Images  Instances          P          R      mAP50   mAP50-95: 100%|██████████| 4/4 [00:26<00:00,  6.63s/it]\n",
      "                   all        128        929      0.645      0.473      0.551      0.349\n",
      "\n",
      "1 epochs completed in 0.036 hours.\n",
      "Optimizer stripped from yolov5\\runs\\train\\exp\\weights\\last.pt, 4.1MB\n",
      "Optimizer stripped from yolov5\\runs\\train\\exp\\weights\\best.pt, 4.1MB\n",
      "\n",
      "Validating yolov5\\runs\\train\\exp\\weights\\best.pt...\n",
      "Fusing layers... \n",
      "Model summary: 157 layers, 1867405 parameters, 0 gradients, 4.5 GFLOPs\n",
      "\n",
      "                 Class     Images  Instances          P          R      mAP50   mAP50-95:   0%|          | 0/4 [00:00<?, ?it/s]\n",
      "                 Class     Images  Instances          P          R      mAP50   mAP50-95:  25%|██▌       | 1/4 [00:04<00:13,  4.51s/it]\n",
      "                 Class     Images  Instances          P          R      mAP50   mAP50-95:  50%|█████     | 2/4 [00:10<00:10,  5.15s/it]\n",
      "                 Class     Images  Instances          P          R      mAP50   mAP50-95:  75%|███████▌  | 3/4 [00:17<00:06,  6.09s/it]\n",
      "                 Class     Images  Instances          P          R      mAP50   mAP50-95: 100%|██████████| 4/4 [00:23<00:00,  6.23s/it]\n",
      "                 Class     Images  Instances          P          R      mAP50   mAP50-95: 100%|██████████| 4/4 [00:23<00:00,  5.94s/it]\n",
      "                   all        128        929      0.638      0.477       0.55      0.348\n",
      "                person        128        254      0.772      0.667      0.741      0.442\n",
      "               bicycle        128          6      0.581      0.333      0.361      0.279\n",
      "                   car        128         46      0.538      0.178      0.224      0.141\n",
      "            motorcycle        128          5      0.693        0.6      0.754      0.495\n",
      "              airplane        128          6          1      0.635      0.848      0.518\n",
      "                   bus        128          7      0.687      0.714       0.72      0.609\n",
      "                 train        128          3      0.592      0.667      0.564      0.273\n",
      "                 truck        128         12       0.74       0.25      0.341      0.199\n",
      "                  boat        128          6      0.377      0.308       0.29      0.125\n",
      "         traffic light        128         14      0.182     0.0714      0.156      0.106\n",
      "             stop sign        128          2          1      0.884      0.995      0.697\n",
      "                 bench        128          9      0.528      0.333      0.419      0.222\n",
      "                  bird        128         16      0.909      0.812      0.886      0.512\n",
      "                   cat        128          4      0.672       0.75      0.888      0.628\n",
      "                   dog        128          9      0.819      0.444      0.709      0.447\n",
      "                 horse        128          2      0.437          1      0.995      0.696\n",
      "              elephant        128         17       0.91      0.765      0.857      0.584\n",
      "                  bear        128          1      0.577          1      0.995      0.895\n",
      "                 zebra        128          4      0.837          1      0.995      0.952\n",
      "               giraffe        128          9      0.894      0.945      0.973      0.626\n",
      "              backpack        128          6       0.48      0.333      0.382      0.197\n",
      "              umbrella        128         18      0.645      0.444      0.571      0.268\n",
      "               handbag        128         19      0.516     0.0576      0.136     0.0819\n",
      "                   tie        128          7      0.645      0.429       0.55      0.366\n",
      "              suitcase        128          4       0.65       0.75       0.87      0.516\n",
      "               frisbee        128          5      0.699        0.8      0.798      0.619\n",
      "                  skis        128          1          1          0     0.0663     0.0332\n",
      "             snowboard        128          7      0.894      0.714      0.797      0.431\n",
      "           sports ball        128          6      0.664      0.667      0.601      0.274\n",
      "                  kite        128         10      0.804        0.5      0.529      0.173\n",
      "          baseball bat        128          4          0          0     0.0924     0.0409\n",
      "        baseball glove        128          7      0.451      0.429      0.358      0.183\n",
      "            skateboard        128          5      0.746        0.6      0.601      0.452\n",
      "         tennis racket        128          7      0.415      0.286      0.338      0.185\n",
      "                bottle        128         18      0.475      0.333      0.421      0.224\n",
      "            wine glass        128         16      0.578      0.562      0.621      0.224\n",
      "                   cup        128         36      0.754       0.25      0.376      0.247\n",
      "                  fork        128          6      0.483      0.167      0.203      0.139\n",
      "                 knife        128         16       0.76      0.562      0.639      0.268\n",
      "                 spoon        128         22      0.638     0.0909      0.348      0.123\n",
      "                  bowl        128         28      0.745      0.522      0.574      0.386\n",
      "                banana        128          1      0.574          1      0.995      0.204\n",
      "              sandwich        128          2          0          0      0.145      0.114\n",
      "                orange        128          4          1          0      0.431      0.247\n",
      "              broccoli        128         11      0.368      0.182      0.273      0.236\n",
      "                carrot        128         24      0.529      0.333      0.365       0.22\n",
      "               hot dog        128          2      0.414        0.5       0.62      0.521\n",
      "                 pizza        128          5      0.621          1       0.88      0.589\n",
      "                 donut        128         14      0.683      0.929       0.93      0.687\n",
      "                  cake        128          4      0.696          1      0.995      0.691\n",
      "                 chair        128         35      0.422      0.429      0.396      0.197\n",
      "                 couch        128          6      0.642      0.309      0.472      0.271\n",
      "          potted plant        128         14      0.751      0.571      0.681      0.421\n",
      "                   bed        128          3          1          0      0.374      0.155\n",
      "          dining table        128         13      0.383      0.231      0.302      0.224\n",
      "                toilet        128          2      0.646        0.5      0.562      0.493\n",
      "                    tv        128          2      0.558          1      0.995      0.796\n",
      "                laptop        128          3          1          0       0.48      0.205\n",
      "                 mouse        128          2          1          0          0          0\n",
      "                remote        128          8      0.715        0.5      0.523      0.384\n",
      "            cell phone        128          8          0          0      0.159     0.0555\n",
      "             microwave        128          3      0.661          1      0.995      0.743\n",
      "                  oven        128          5       0.41        0.4      0.361      0.173\n",
      "                  sink        128          6      0.387      0.167       0.18      0.119\n",
      "          refrigerator        128          5      0.686        0.6      0.718      0.419\n",
      "                  book        128         29      0.445      0.138      0.255     0.0748\n",
      "                 clock        128          9      0.829      0.889      0.914      0.624\n",
      "                  vase        128          2      0.372          1      0.497       0.46\n",
      "              scissors        128          1          1          0          0          0\n",
      "            teddy bear        128         21      0.687      0.333      0.475      0.221\n",
      "            toothbrush        128          5          1          0      0.528      0.282\n",
      "Results saved to \u001b[1myolov5\\runs\\train\\exp\u001b[0m\n"
     ]
    }
   ],
   "source": [
    "!python yolov5/train.py  --weights yolov5n.pt --epochs 1"
   ]
  },
  {
   "cell_type": "markdown",
   "metadata": {},
   "source": [
    "Скачиваем предобученную модель обученную на английском алфавите и предназначенню для распознавания его же"
   ]
  },
  {
   "cell_type": "code",
   "execution_count": 1,
   "metadata": {},
   "outputs": [
    {
     "name": "stderr",
     "output_type": "stream",
     "text": [
      "Using CPU. Note: This module is much faster with a GPU.\n",
      "Downloading recognition model, please wait. This may take several minutes depending upon your network connection.\n"
     ]
    },
    {
     "ename": "URLError",
     "evalue": "<urlopen error [Errno 11001] getaddrinfo failed>",
     "output_type": "error",
     "traceback": [
      "\u001b[1;31m---------------------------------------------------------------------------\u001b[0m",
      "\u001b[1;31mgaierror\u001b[0m                                  Traceback (most recent call last)",
      "File \u001b[1;32mc:\\Users\\Participant\\AppData\\Local\\Programs\\Python\\Python312\\Lib\\urllib\\request.py:1344\u001b[0m, in \u001b[0;36mAbstractHTTPHandler.do_open\u001b[1;34m(self, http_class, req, **http_conn_args)\u001b[0m\n\u001b[0;32m   1343\u001b[0m \u001b[38;5;28;01mtry\u001b[39;00m:\n\u001b[1;32m-> 1344\u001b[0m     \u001b[43mh\u001b[49m\u001b[38;5;241;43m.\u001b[39;49m\u001b[43mrequest\u001b[49m\u001b[43m(\u001b[49m\u001b[43mreq\u001b[49m\u001b[38;5;241;43m.\u001b[39;49m\u001b[43mget_method\u001b[49m\u001b[43m(\u001b[49m\u001b[43m)\u001b[49m\u001b[43m,\u001b[49m\u001b[43m \u001b[49m\u001b[43mreq\u001b[49m\u001b[38;5;241;43m.\u001b[39;49m\u001b[43mselector\u001b[49m\u001b[43m,\u001b[49m\u001b[43m \u001b[49m\u001b[43mreq\u001b[49m\u001b[38;5;241;43m.\u001b[39;49m\u001b[43mdata\u001b[49m\u001b[43m,\u001b[49m\u001b[43m \u001b[49m\u001b[43mheaders\u001b[49m\u001b[43m,\u001b[49m\n\u001b[0;32m   1345\u001b[0m \u001b[43m              \u001b[49m\u001b[43mencode_chunked\u001b[49m\u001b[38;5;241;43m=\u001b[39;49m\u001b[43mreq\u001b[49m\u001b[38;5;241;43m.\u001b[39;49m\u001b[43mhas_header\u001b[49m\u001b[43m(\u001b[49m\u001b[38;5;124;43m'\u001b[39;49m\u001b[38;5;124;43mTransfer-encoding\u001b[39;49m\u001b[38;5;124;43m'\u001b[39;49m\u001b[43m)\u001b[49m\u001b[43m)\u001b[49m\n\u001b[0;32m   1346\u001b[0m \u001b[38;5;28;01mexcept\u001b[39;00m \u001b[38;5;167;01mOSError\u001b[39;00m \u001b[38;5;28;01mas\u001b[39;00m err: \u001b[38;5;66;03m# timeout error\u001b[39;00m\n",
      "File \u001b[1;32mc:\\Users\\Participant\\AppData\\Local\\Programs\\Python\\Python312\\Lib\\http\\client.py:1331\u001b[0m, in \u001b[0;36mHTTPConnection.request\u001b[1;34m(self, method, url, body, headers, encode_chunked)\u001b[0m\n\u001b[0;32m   1330\u001b[0m \u001b[38;5;250m\u001b[39m\u001b[38;5;124;03m\"\"\"Send a complete request to the server.\"\"\"\u001b[39;00m\n\u001b[1;32m-> 1331\u001b[0m \u001b[38;5;28;43mself\u001b[39;49m\u001b[38;5;241;43m.\u001b[39;49m\u001b[43m_send_request\u001b[49m\u001b[43m(\u001b[49m\u001b[43mmethod\u001b[49m\u001b[43m,\u001b[49m\u001b[43m \u001b[49m\u001b[43murl\u001b[49m\u001b[43m,\u001b[49m\u001b[43m \u001b[49m\u001b[43mbody\u001b[49m\u001b[43m,\u001b[49m\u001b[43m \u001b[49m\u001b[43mheaders\u001b[49m\u001b[43m,\u001b[49m\u001b[43m \u001b[49m\u001b[43mencode_chunked\u001b[49m\u001b[43m)\u001b[49m\n",
      "File \u001b[1;32mc:\\Users\\Participant\\AppData\\Local\\Programs\\Python\\Python312\\Lib\\http\\client.py:1377\u001b[0m, in \u001b[0;36mHTTPConnection._send_request\u001b[1;34m(self, method, url, body, headers, encode_chunked)\u001b[0m\n\u001b[0;32m   1376\u001b[0m     body \u001b[38;5;241m=\u001b[39m _encode(body, \u001b[38;5;124m'\u001b[39m\u001b[38;5;124mbody\u001b[39m\u001b[38;5;124m'\u001b[39m)\n\u001b[1;32m-> 1377\u001b[0m \u001b[38;5;28;43mself\u001b[39;49m\u001b[38;5;241;43m.\u001b[39;49m\u001b[43mendheaders\u001b[49m\u001b[43m(\u001b[49m\u001b[43mbody\u001b[49m\u001b[43m,\u001b[49m\u001b[43m \u001b[49m\u001b[43mencode_chunked\u001b[49m\u001b[38;5;241;43m=\u001b[39;49m\u001b[43mencode_chunked\u001b[49m\u001b[43m)\u001b[49m\n",
      "File \u001b[1;32mc:\\Users\\Participant\\AppData\\Local\\Programs\\Python\\Python312\\Lib\\http\\client.py:1326\u001b[0m, in \u001b[0;36mHTTPConnection.endheaders\u001b[1;34m(self, message_body, encode_chunked)\u001b[0m\n\u001b[0;32m   1325\u001b[0m     \u001b[38;5;28;01mraise\u001b[39;00m CannotSendHeader()\n\u001b[1;32m-> 1326\u001b[0m \u001b[38;5;28;43mself\u001b[39;49m\u001b[38;5;241;43m.\u001b[39;49m\u001b[43m_send_output\u001b[49m\u001b[43m(\u001b[49m\u001b[43mmessage_body\u001b[49m\u001b[43m,\u001b[49m\u001b[43m \u001b[49m\u001b[43mencode_chunked\u001b[49m\u001b[38;5;241;43m=\u001b[39;49m\u001b[43mencode_chunked\u001b[49m\u001b[43m)\u001b[49m\n",
      "File \u001b[1;32mc:\\Users\\Participant\\AppData\\Local\\Programs\\Python\\Python312\\Lib\\http\\client.py:1085\u001b[0m, in \u001b[0;36mHTTPConnection._send_output\u001b[1;34m(self, message_body, encode_chunked)\u001b[0m\n\u001b[0;32m   1084\u001b[0m \u001b[38;5;28;01mdel\u001b[39;00m \u001b[38;5;28mself\u001b[39m\u001b[38;5;241m.\u001b[39m_buffer[:]\n\u001b[1;32m-> 1085\u001b[0m \u001b[38;5;28;43mself\u001b[39;49m\u001b[38;5;241;43m.\u001b[39;49m\u001b[43msend\u001b[49m\u001b[43m(\u001b[49m\u001b[43mmsg\u001b[49m\u001b[43m)\u001b[49m\n\u001b[0;32m   1087\u001b[0m \u001b[38;5;28;01mif\u001b[39;00m message_body \u001b[38;5;129;01mis\u001b[39;00m \u001b[38;5;129;01mnot\u001b[39;00m \u001b[38;5;28;01mNone\u001b[39;00m:\n\u001b[0;32m   1088\u001b[0m \n\u001b[0;32m   1089\u001b[0m     \u001b[38;5;66;03m# create a consistent interface to message_body\u001b[39;00m\n",
      "File \u001b[1;32mc:\\Users\\Participant\\AppData\\Local\\Programs\\Python\\Python312\\Lib\\http\\client.py:1029\u001b[0m, in \u001b[0;36mHTTPConnection.send\u001b[1;34m(self, data)\u001b[0m\n\u001b[0;32m   1028\u001b[0m \u001b[38;5;28;01mif\u001b[39;00m \u001b[38;5;28mself\u001b[39m\u001b[38;5;241m.\u001b[39mauto_open:\n\u001b[1;32m-> 1029\u001b[0m     \u001b[38;5;28;43mself\u001b[39;49m\u001b[38;5;241;43m.\u001b[39;49m\u001b[43mconnect\u001b[49m\u001b[43m(\u001b[49m\u001b[43m)\u001b[49m\n\u001b[0;32m   1030\u001b[0m \u001b[38;5;28;01melse\u001b[39;00m:\n",
      "File \u001b[1;32mc:\\Users\\Participant\\AppData\\Local\\Programs\\Python\\Python312\\Lib\\http\\client.py:1465\u001b[0m, in \u001b[0;36mHTTPSConnection.connect\u001b[1;34m(self)\u001b[0m\n\u001b[0;32m   1463\u001b[0m \u001b[38;5;124m\"\u001b[39m\u001b[38;5;124mConnect to a host on a given (SSL) port.\u001b[39m\u001b[38;5;124m\"\u001b[39m\n\u001b[1;32m-> 1465\u001b[0m \u001b[38;5;28;43msuper\u001b[39;49m\u001b[43m(\u001b[49m\u001b[43m)\u001b[49m\u001b[38;5;241;43m.\u001b[39;49m\u001b[43mconnect\u001b[49m\u001b[43m(\u001b[49m\u001b[43m)\u001b[49m\n\u001b[0;32m   1467\u001b[0m \u001b[38;5;28;01mif\u001b[39;00m \u001b[38;5;28mself\u001b[39m\u001b[38;5;241m.\u001b[39m_tunnel_host:\n",
      "File \u001b[1;32mc:\\Users\\Participant\\AppData\\Local\\Programs\\Python\\Python312\\Lib\\http\\client.py:995\u001b[0m, in \u001b[0;36mHTTPConnection.connect\u001b[1;34m(self)\u001b[0m\n\u001b[0;32m    994\u001b[0m sys\u001b[38;5;241m.\u001b[39maudit(\u001b[38;5;124m\"\u001b[39m\u001b[38;5;124mhttp.client.connect\u001b[39m\u001b[38;5;124m\"\u001b[39m, \u001b[38;5;28mself\u001b[39m, \u001b[38;5;28mself\u001b[39m\u001b[38;5;241m.\u001b[39mhost, \u001b[38;5;28mself\u001b[39m\u001b[38;5;241m.\u001b[39mport)\n\u001b[1;32m--> 995\u001b[0m \u001b[38;5;28mself\u001b[39m\u001b[38;5;241m.\u001b[39msock \u001b[38;5;241m=\u001b[39m \u001b[38;5;28;43mself\u001b[39;49m\u001b[38;5;241;43m.\u001b[39;49m\u001b[43m_create_connection\u001b[49m\u001b[43m(\u001b[49m\n\u001b[0;32m    996\u001b[0m \u001b[43m    \u001b[49m\u001b[43m(\u001b[49m\u001b[38;5;28;43mself\u001b[39;49m\u001b[38;5;241;43m.\u001b[39;49m\u001b[43mhost\u001b[49m\u001b[43m,\u001b[49m\u001b[38;5;28;43mself\u001b[39;49m\u001b[38;5;241;43m.\u001b[39;49m\u001b[43mport\u001b[49m\u001b[43m)\u001b[49m\u001b[43m,\u001b[49m\u001b[43m \u001b[49m\u001b[38;5;28;43mself\u001b[39;49m\u001b[38;5;241;43m.\u001b[39;49m\u001b[43mtimeout\u001b[49m\u001b[43m,\u001b[49m\u001b[43m \u001b[49m\u001b[38;5;28;43mself\u001b[39;49m\u001b[38;5;241;43m.\u001b[39;49m\u001b[43msource_address\u001b[49m\u001b[43m)\u001b[49m\n\u001b[0;32m    997\u001b[0m \u001b[38;5;66;03m# Might fail in OSs that don't implement TCP_NODELAY\u001b[39;00m\n",
      "File \u001b[1;32mc:\\Users\\Participant\\AppData\\Local\\Programs\\Python\\Python312\\Lib\\socket.py:828\u001b[0m, in \u001b[0;36mcreate_connection\u001b[1;34m(address, timeout, source_address, all_errors)\u001b[0m\n\u001b[0;32m    827\u001b[0m exceptions \u001b[38;5;241m=\u001b[39m []\n\u001b[1;32m--> 828\u001b[0m \u001b[38;5;28;01mfor\u001b[39;00m res \u001b[38;5;129;01min\u001b[39;00m \u001b[43mgetaddrinfo\u001b[49m\u001b[43m(\u001b[49m\u001b[43mhost\u001b[49m\u001b[43m,\u001b[49m\u001b[43m \u001b[49m\u001b[43mport\u001b[49m\u001b[43m,\u001b[49m\u001b[43m \u001b[49m\u001b[38;5;241;43m0\u001b[39;49m\u001b[43m,\u001b[49m\u001b[43m \u001b[49m\u001b[43mSOCK_STREAM\u001b[49m\u001b[43m)\u001b[49m:\n\u001b[0;32m    829\u001b[0m     af, socktype, proto, canonname, sa \u001b[38;5;241m=\u001b[39m res\n",
      "File \u001b[1;32mc:\\Users\\Participant\\AppData\\Local\\Programs\\Python\\Python312\\Lib\\socket.py:963\u001b[0m, in \u001b[0;36mgetaddrinfo\u001b[1;34m(host, port, family, type, proto, flags)\u001b[0m\n\u001b[0;32m    962\u001b[0m addrlist \u001b[38;5;241m=\u001b[39m []\n\u001b[1;32m--> 963\u001b[0m \u001b[38;5;28;01mfor\u001b[39;00m res \u001b[38;5;129;01min\u001b[39;00m \u001b[43m_socket\u001b[49m\u001b[38;5;241;43m.\u001b[39;49m\u001b[43mgetaddrinfo\u001b[49m\u001b[43m(\u001b[49m\u001b[43mhost\u001b[49m\u001b[43m,\u001b[49m\u001b[43m \u001b[49m\u001b[43mport\u001b[49m\u001b[43m,\u001b[49m\u001b[43m \u001b[49m\u001b[43mfamily\u001b[49m\u001b[43m,\u001b[49m\u001b[43m \u001b[49m\u001b[38;5;28;43mtype\u001b[39;49m\u001b[43m,\u001b[49m\u001b[43m \u001b[49m\u001b[43mproto\u001b[49m\u001b[43m,\u001b[49m\u001b[43m \u001b[49m\u001b[43mflags\u001b[49m\u001b[43m)\u001b[49m:\n\u001b[0;32m    964\u001b[0m     af, socktype, proto, canonname, sa \u001b[38;5;241m=\u001b[39m res\n",
      "\u001b[1;31mgaierror\u001b[0m: [Errno 11001] getaddrinfo failed",
      "\nDuring handling of the above exception, another exception occurred:\n",
      "\u001b[1;31mURLError\u001b[0m                                  Traceback (most recent call last)",
      "Cell \u001b[1;32mIn[1], line 4\u001b[0m\n\u001b[0;32m      2\u001b[0m \u001b[38;5;28;01mimport\u001b[39;00m \u001b[38;5;21;01measyocr\u001b[39;00m\n\u001b[0;32m      3\u001b[0m \u001b[38;5;66;03m# загружаем предобученную модель на английских буквах\u001b[39;00m\n\u001b[1;32m----> 4\u001b[0m reader \u001b[38;5;241m=\u001b[39m \u001b[43measyocr\u001b[49m\u001b[38;5;241;43m.\u001b[39;49m\u001b[43mReader\u001b[49m\u001b[43m(\u001b[49m\u001b[43m[\u001b[49m\u001b[38;5;124;43m'\u001b[39;49m\u001b[38;5;124;43men\u001b[39;49m\u001b[38;5;124;43m'\u001b[39;49m\u001b[43m,\u001b[49m\u001b[43m]\u001b[49m\u001b[43m,\u001b[49m\u001b[43m \u001b[49m\u001b[43mgpu\u001b[49m\u001b[43m \u001b[49m\u001b[38;5;241;43m=\u001b[39;49m\u001b[43m \u001b[49m\u001b[38;5;28;43;01mFalse\u001b[39;49;00m\u001b[43m)\u001b[49m\n",
      "File \u001b[1;32mc:\\Users\\Participant\\AppData\\Local\\Programs\\Python\\Python312\\Lib\\site-packages\\easyocr\\easyocr.py:178\u001b[0m, in \u001b[0;36mReader.__init__\u001b[1;34m(self, lang_list, gpu, model_storage_directory, user_network_directory, detect_network, recog_network, download_enabled, detector, recognizer, verbose, quantize, cudnn_benchmark)\u001b[0m\n\u001b[0;32m    175\u001b[0m     \u001b[38;5;28;01mraise\u001b[39;00m \u001b[38;5;167;01mFileNotFoundError\u001b[39;00m(\u001b[38;5;124m\"\u001b[39m\u001b[38;5;124mMissing \u001b[39m\u001b[38;5;132;01m%s\u001b[39;00m\u001b[38;5;124m and downloads disabled\u001b[39m\u001b[38;5;124m\"\u001b[39m \u001b[38;5;241m%\u001b[39m model_path)\n\u001b[0;32m    176\u001b[0m LOGGER\u001b[38;5;241m.\u001b[39mwarning(\u001b[38;5;124m'\u001b[39m\u001b[38;5;124mDownloading recognition model, please wait. \u001b[39m\u001b[38;5;124m'\u001b[39m\n\u001b[0;32m    177\u001b[0m                \u001b[38;5;124m'\u001b[39m\u001b[38;5;124mThis may take several minutes depending upon your network connection.\u001b[39m\u001b[38;5;124m'\u001b[39m)\n\u001b[1;32m--> 178\u001b[0m \u001b[43mdownload_and_unzip\u001b[49m\u001b[43m(\u001b[49m\u001b[43mmodel\u001b[49m\u001b[43m[\u001b[49m\u001b[38;5;124;43m'\u001b[39;49m\u001b[38;5;124;43murl\u001b[39;49m\u001b[38;5;124;43m'\u001b[39;49m\u001b[43m]\u001b[49m\u001b[43m,\u001b[49m\u001b[43m \u001b[49m\u001b[43mmodel\u001b[49m\u001b[43m[\u001b[49m\u001b[38;5;124;43m'\u001b[39;49m\u001b[38;5;124;43mfilename\u001b[39;49m\u001b[38;5;124;43m'\u001b[39;49m\u001b[43m]\u001b[49m\u001b[43m,\u001b[49m\u001b[43m \u001b[49m\u001b[38;5;28;43mself\u001b[39;49m\u001b[38;5;241;43m.\u001b[39;49m\u001b[43mmodel_storage_directory\u001b[49m\u001b[43m,\u001b[49m\u001b[43m \u001b[49m\u001b[43mverbose\u001b[49m\u001b[43m)\u001b[49m\n\u001b[0;32m    179\u001b[0m \u001b[38;5;28;01massert\u001b[39;00m calculate_md5(model_path) \u001b[38;5;241m==\u001b[39m model[\u001b[38;5;124m'\u001b[39m\u001b[38;5;124mmd5sum\u001b[39m\u001b[38;5;124m'\u001b[39m], corrupt_msg\n\u001b[0;32m    180\u001b[0m LOGGER\u001b[38;5;241m.\u001b[39minfo(\u001b[38;5;124m'\u001b[39m\u001b[38;5;124mDownload complete.\u001b[39m\u001b[38;5;124m'\u001b[39m)\n",
      "File \u001b[1;32mc:\\Users\\Participant\\AppData\\Local\\Programs\\Python\\Python312\\Lib\\site-packages\\easyocr\\utils.py:628\u001b[0m, in \u001b[0;36mdownload_and_unzip\u001b[1;34m(url, filename, model_storage_directory, verbose)\u001b[0m\n\u001b[0;32m    626\u001b[0m zip_path \u001b[38;5;241m=\u001b[39m os\u001b[38;5;241m.\u001b[39mpath\u001b[38;5;241m.\u001b[39mjoin(model_storage_directory, \u001b[38;5;124m'\u001b[39m\u001b[38;5;124mtemp.zip\u001b[39m\u001b[38;5;124m'\u001b[39m)\n\u001b[0;32m    627\u001b[0m reporthook \u001b[38;5;241m=\u001b[39m printProgressBar(prefix\u001b[38;5;241m=\u001b[39m\u001b[38;5;124m'\u001b[39m\u001b[38;5;124mProgress:\u001b[39m\u001b[38;5;124m'\u001b[39m, suffix\u001b[38;5;241m=\u001b[39m\u001b[38;5;124m'\u001b[39m\u001b[38;5;124mComplete\u001b[39m\u001b[38;5;124m'\u001b[39m, length\u001b[38;5;241m=\u001b[39m\u001b[38;5;241m50\u001b[39m) \u001b[38;5;28;01mif\u001b[39;00m verbose \u001b[38;5;28;01melse\u001b[39;00m \u001b[38;5;28;01mNone\u001b[39;00m\n\u001b[1;32m--> 628\u001b[0m \u001b[43murlretrieve\u001b[49m\u001b[43m(\u001b[49m\u001b[43murl\u001b[49m\u001b[43m,\u001b[49m\u001b[43m \u001b[49m\u001b[43mzip_path\u001b[49m\u001b[43m,\u001b[49m\u001b[43m \u001b[49m\u001b[43mreporthook\u001b[49m\u001b[38;5;241;43m=\u001b[39;49m\u001b[43mreporthook\u001b[49m\u001b[43m)\u001b[49m\n\u001b[0;32m    629\u001b[0m \u001b[38;5;28;01mwith\u001b[39;00m ZipFile(zip_path, \u001b[38;5;124m'\u001b[39m\u001b[38;5;124mr\u001b[39m\u001b[38;5;124m'\u001b[39m) \u001b[38;5;28;01mas\u001b[39;00m zipObj:\n\u001b[0;32m    630\u001b[0m     zipObj\u001b[38;5;241m.\u001b[39mextract(filename, model_storage_directory)\n",
      "File \u001b[1;32mc:\\Users\\Participant\\AppData\\Local\\Programs\\Python\\Python312\\Lib\\urllib\\request.py:240\u001b[0m, in \u001b[0;36murlretrieve\u001b[1;34m(url, filename, reporthook, data)\u001b[0m\n\u001b[0;32m    223\u001b[0m \u001b[38;5;250m\u001b[39m\u001b[38;5;124;03m\"\"\"\u001b[39;00m\n\u001b[0;32m    224\u001b[0m \u001b[38;5;124;03mRetrieve a URL into a temporary location on disk.\u001b[39;00m\n\u001b[0;32m    225\u001b[0m \n\u001b[1;32m   (...)\u001b[0m\n\u001b[0;32m    236\u001b[0m \u001b[38;5;124;03mdata file as well as the resulting HTTPMessage object.\u001b[39;00m\n\u001b[0;32m    237\u001b[0m \u001b[38;5;124;03m\"\"\"\u001b[39;00m\n\u001b[0;32m    238\u001b[0m url_type, path \u001b[38;5;241m=\u001b[39m _splittype(url)\n\u001b[1;32m--> 240\u001b[0m \u001b[38;5;28;01mwith\u001b[39;00m contextlib\u001b[38;5;241m.\u001b[39mclosing(\u001b[43murlopen\u001b[49m\u001b[43m(\u001b[49m\u001b[43murl\u001b[49m\u001b[43m,\u001b[49m\u001b[43m \u001b[49m\u001b[43mdata\u001b[49m\u001b[43m)\u001b[49m) \u001b[38;5;28;01mas\u001b[39;00m fp:\n\u001b[0;32m    241\u001b[0m     headers \u001b[38;5;241m=\u001b[39m fp\u001b[38;5;241m.\u001b[39minfo()\n\u001b[0;32m    243\u001b[0m     \u001b[38;5;66;03m# Just return the local path and the \"headers\" for file://\u001b[39;00m\n\u001b[0;32m    244\u001b[0m     \u001b[38;5;66;03m# URLs. No sense in performing a copy unless requested.\u001b[39;00m\n",
      "File \u001b[1;32mc:\\Users\\Participant\\AppData\\Local\\Programs\\Python\\Python312\\Lib\\urllib\\request.py:215\u001b[0m, in \u001b[0;36murlopen\u001b[1;34m(url, data, timeout, cafile, capath, cadefault, context)\u001b[0m\n\u001b[0;32m    213\u001b[0m \u001b[38;5;28;01melse\u001b[39;00m:\n\u001b[0;32m    214\u001b[0m     opener \u001b[38;5;241m=\u001b[39m _opener\n\u001b[1;32m--> 215\u001b[0m \u001b[38;5;28;01mreturn\u001b[39;00m \u001b[43mopener\u001b[49m\u001b[38;5;241;43m.\u001b[39;49m\u001b[43mopen\u001b[49m\u001b[43m(\u001b[49m\u001b[43murl\u001b[49m\u001b[43m,\u001b[49m\u001b[43m \u001b[49m\u001b[43mdata\u001b[49m\u001b[43m,\u001b[49m\u001b[43m \u001b[49m\u001b[43mtimeout\u001b[49m\u001b[43m)\u001b[49m\n",
      "File \u001b[1;32mc:\\Users\\Participant\\AppData\\Local\\Programs\\Python\\Python312\\Lib\\urllib\\request.py:515\u001b[0m, in \u001b[0;36mOpenerDirector.open\u001b[1;34m(self, fullurl, data, timeout)\u001b[0m\n\u001b[0;32m    512\u001b[0m     req \u001b[38;5;241m=\u001b[39m meth(req)\n\u001b[0;32m    514\u001b[0m sys\u001b[38;5;241m.\u001b[39maudit(\u001b[38;5;124m'\u001b[39m\u001b[38;5;124murllib.Request\u001b[39m\u001b[38;5;124m'\u001b[39m, req\u001b[38;5;241m.\u001b[39mfull_url, req\u001b[38;5;241m.\u001b[39mdata, req\u001b[38;5;241m.\u001b[39mheaders, req\u001b[38;5;241m.\u001b[39mget_method())\n\u001b[1;32m--> 515\u001b[0m response \u001b[38;5;241m=\u001b[39m \u001b[38;5;28;43mself\u001b[39;49m\u001b[38;5;241;43m.\u001b[39;49m\u001b[43m_open\u001b[49m\u001b[43m(\u001b[49m\u001b[43mreq\u001b[49m\u001b[43m,\u001b[49m\u001b[43m \u001b[49m\u001b[43mdata\u001b[49m\u001b[43m)\u001b[49m\n\u001b[0;32m    517\u001b[0m \u001b[38;5;66;03m# post-process response\u001b[39;00m\n\u001b[0;32m    518\u001b[0m meth_name \u001b[38;5;241m=\u001b[39m protocol\u001b[38;5;241m+\u001b[39m\u001b[38;5;124m\"\u001b[39m\u001b[38;5;124m_response\u001b[39m\u001b[38;5;124m\"\u001b[39m\n",
      "File \u001b[1;32mc:\\Users\\Participant\\AppData\\Local\\Programs\\Python\\Python312\\Lib\\urllib\\request.py:532\u001b[0m, in \u001b[0;36mOpenerDirector._open\u001b[1;34m(self, req, data)\u001b[0m\n\u001b[0;32m    529\u001b[0m     \u001b[38;5;28;01mreturn\u001b[39;00m result\n\u001b[0;32m    531\u001b[0m protocol \u001b[38;5;241m=\u001b[39m req\u001b[38;5;241m.\u001b[39mtype\n\u001b[1;32m--> 532\u001b[0m result \u001b[38;5;241m=\u001b[39m \u001b[38;5;28;43mself\u001b[39;49m\u001b[38;5;241;43m.\u001b[39;49m\u001b[43m_call_chain\u001b[49m\u001b[43m(\u001b[49m\u001b[38;5;28;43mself\u001b[39;49m\u001b[38;5;241;43m.\u001b[39;49m\u001b[43mhandle_open\u001b[49m\u001b[43m,\u001b[49m\u001b[43m \u001b[49m\u001b[43mprotocol\u001b[49m\u001b[43m,\u001b[49m\u001b[43m \u001b[49m\u001b[43mprotocol\u001b[49m\u001b[43m \u001b[49m\u001b[38;5;241;43m+\u001b[39;49m\n\u001b[0;32m    533\u001b[0m \u001b[43m                          \u001b[49m\u001b[38;5;124;43m'\u001b[39;49m\u001b[38;5;124;43m_open\u001b[39;49m\u001b[38;5;124;43m'\u001b[39;49m\u001b[43m,\u001b[49m\u001b[43m \u001b[49m\u001b[43mreq\u001b[49m\u001b[43m)\u001b[49m\n\u001b[0;32m    534\u001b[0m \u001b[38;5;28;01mif\u001b[39;00m result:\n\u001b[0;32m    535\u001b[0m     \u001b[38;5;28;01mreturn\u001b[39;00m result\n",
      "File \u001b[1;32mc:\\Users\\Participant\\AppData\\Local\\Programs\\Python\\Python312\\Lib\\urllib\\request.py:492\u001b[0m, in \u001b[0;36mOpenerDirector._call_chain\u001b[1;34m(self, chain, kind, meth_name, *args)\u001b[0m\n\u001b[0;32m    490\u001b[0m \u001b[38;5;28;01mfor\u001b[39;00m handler \u001b[38;5;129;01min\u001b[39;00m handlers:\n\u001b[0;32m    491\u001b[0m     func \u001b[38;5;241m=\u001b[39m \u001b[38;5;28mgetattr\u001b[39m(handler, meth_name)\n\u001b[1;32m--> 492\u001b[0m     result \u001b[38;5;241m=\u001b[39m \u001b[43mfunc\u001b[49m\u001b[43m(\u001b[49m\u001b[38;5;241;43m*\u001b[39;49m\u001b[43margs\u001b[49m\u001b[43m)\u001b[49m\n\u001b[0;32m    493\u001b[0m     \u001b[38;5;28;01mif\u001b[39;00m result \u001b[38;5;129;01mis\u001b[39;00m \u001b[38;5;129;01mnot\u001b[39;00m \u001b[38;5;28;01mNone\u001b[39;00m:\n\u001b[0;32m    494\u001b[0m         \u001b[38;5;28;01mreturn\u001b[39;00m result\n",
      "File \u001b[1;32mc:\\Users\\Participant\\AppData\\Local\\Programs\\Python\\Python312\\Lib\\urllib\\request.py:1392\u001b[0m, in \u001b[0;36mHTTPSHandler.https_open\u001b[1;34m(self, req)\u001b[0m\n\u001b[0;32m   1391\u001b[0m \u001b[38;5;28;01mdef\u001b[39;00m \u001b[38;5;21mhttps_open\u001b[39m(\u001b[38;5;28mself\u001b[39m, req):\n\u001b[1;32m-> 1392\u001b[0m     \u001b[38;5;28;01mreturn\u001b[39;00m \u001b[38;5;28;43mself\u001b[39;49m\u001b[38;5;241;43m.\u001b[39;49m\u001b[43mdo_open\u001b[49m\u001b[43m(\u001b[49m\u001b[43mhttp\u001b[49m\u001b[38;5;241;43m.\u001b[39;49m\u001b[43mclient\u001b[49m\u001b[38;5;241;43m.\u001b[39;49m\u001b[43mHTTPSConnection\u001b[49m\u001b[43m,\u001b[49m\u001b[43m \u001b[49m\u001b[43mreq\u001b[49m\u001b[43m,\u001b[49m\n\u001b[0;32m   1393\u001b[0m \u001b[43m                        \u001b[49m\u001b[43mcontext\u001b[49m\u001b[38;5;241;43m=\u001b[39;49m\u001b[38;5;28;43mself\u001b[39;49m\u001b[38;5;241;43m.\u001b[39;49m\u001b[43m_context\u001b[49m\u001b[43m)\u001b[49m\n",
      "File \u001b[1;32mc:\\Users\\Participant\\AppData\\Local\\Programs\\Python\\Python312\\Lib\\urllib\\request.py:1347\u001b[0m, in \u001b[0;36mAbstractHTTPHandler.do_open\u001b[1;34m(self, http_class, req, **http_conn_args)\u001b[0m\n\u001b[0;32m   1344\u001b[0m         h\u001b[38;5;241m.\u001b[39mrequest(req\u001b[38;5;241m.\u001b[39mget_method(), req\u001b[38;5;241m.\u001b[39mselector, req\u001b[38;5;241m.\u001b[39mdata, headers,\n\u001b[0;32m   1345\u001b[0m                   encode_chunked\u001b[38;5;241m=\u001b[39mreq\u001b[38;5;241m.\u001b[39mhas_header(\u001b[38;5;124m'\u001b[39m\u001b[38;5;124mTransfer-encoding\u001b[39m\u001b[38;5;124m'\u001b[39m))\n\u001b[0;32m   1346\u001b[0m     \u001b[38;5;28;01mexcept\u001b[39;00m \u001b[38;5;167;01mOSError\u001b[39;00m \u001b[38;5;28;01mas\u001b[39;00m err: \u001b[38;5;66;03m# timeout error\u001b[39;00m\n\u001b[1;32m-> 1347\u001b[0m         \u001b[38;5;28;01mraise\u001b[39;00m URLError(err)\n\u001b[0;32m   1348\u001b[0m     r \u001b[38;5;241m=\u001b[39m h\u001b[38;5;241m.\u001b[39mgetresponse()\n\u001b[0;32m   1349\u001b[0m \u001b[38;5;28;01mexcept\u001b[39;00m:\n",
      "\u001b[1;31mURLError\u001b[0m: <urlopen error [Errno 11001] getaddrinfo failed>"
     ]
    }
   ],
   "source": [
    "# библеотека с предобученной моделью\n",
    "import easyocr\n",
    "# загружаем предобученную модель на английских буквах\n",
    "reader = easyocr.Reader(['en',], gpu = False)"
   ]
  }
 ],
 "metadata": {
  "kernelspec": {
   "display_name": "Python 3",
   "language": "python",
   "name": "python3"
  },
  "language_info": {
   "codemirror_mode": {
    "name": "ipython",
    "version": 3
   },
   "file_extension": ".py",
   "mimetype": "text/x-python",
   "name": "python",
   "nbconvert_exporter": "python",
   "pygments_lexer": "ipython3",
   "version": "3.12.2"
  }
 },
 "nbformat": 4,
 "nbformat_minor": 2
}
