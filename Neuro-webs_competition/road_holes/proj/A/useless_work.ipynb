{
 "cells": [
  {
   "cell_type": "markdown",
   "source": [
    "В ходе переноса можем заметить что в папке images директории Japan есть текстовые описания разметки даных"
   ],
   "metadata": {
    "collapsed": false
   },
   "id": "fcbe72b18d2fa38f"
  },
  {
   "cell_type": "markdown",
   "source": [
    "Для подтверждения проверим все ли файлы в images дубликаты и если так удалим их из этой папки"
   ],
   "metadata": {
    "collapsed": false
   },
   "id": "daada210fcb138bd"
  },
  {
   "cell_type": "code",
   "execution_count": 1,
   "id": "initial_id",
   "metadata": {
    "collapsed": true,
    "ExecuteTime": {
     "end_time": "2024-02-05T13:35:33.917263900Z",
     "start_time": "2024-02-05T13:35:33.909265200Z"
    }
   },
   "outputs": [
    {
     "name": "stdout",
     "output_type": "stream",
     "text": [
      "False\n",
      "[]\n",
      "['Japan_000011.txt', 'Japan_000030.txt', 'Japan_000038.txt', 'Japan_000095.txt', 'Japan_000096.txt', 'Japan_000101.txt', 'Japan_000103.txt', 'Japan_000113.txt', 'Japan_000124.txt', 'Japan_000151.txt', 'Japan_000166.txt', 'Japan_000177.txt', 'Japan_000200.txt', 'Japan_000207.txt', 'Japan_000224.txt', 'Japan_000243.txt', 'Japan_000257.txt', 'Japan_000261.txt', 'Japan_000286.txt', 'Japan_000296.txt', 'Japan_000312.txt', 'Japan_000343.txt', 'Japan_000353.txt', 'Japan_000366.txt', 'Japan_000391.txt', 'Japan_000414.txt', 'Japan_000426.txt', 'Japan_000432.txt', 'Japan_000445.txt', 'Japan_000452.txt', 'Japan_000455.txt', 'Japan_000507.txt', 'Japan_000508.txt', 'Japan_000518.txt', 'Japan_000520.txt', 'Japan_000526.txt', 'Japan_000528.txt', 'Japan_000534.txt', 'Japan_000611.txt', 'Japan_000623.txt', 'Japan_000648.txt', 'Japan_000654.txt', 'Japan_000664.txt', 'Japan_000671.txt', 'Japan_000672.txt', 'Japan_000676.txt', 'Japan_000677.txt', 'Japan_000684.txt', 'Japan_000697.txt', 'Japan_000700.txt', 'Japan_000702.txt', 'Japan_000703.txt', 'Japan_000718.txt', 'Japan_000722.txt', 'Japan_000741.txt', 'Japan_000754.txt', 'Japan_000771.txt', 'Japan_000780.txt', 'Japan_000788.txt', 'Japan_000805.txt', 'Japan_000814.txt', 'Japan_000829.txt', 'Japan_000834.txt', 'Japan_000844.txt', 'Japan_000850.txt', 'Japan_000859.txt', 'Japan_000878.txt', 'Japan_000880.txt', 'Japan_000888.txt', 'Japan_000889.txt', 'Japan_000930.txt', 'Japan_000947.txt', 'Japan_000955.txt', 'Japan_000958.txt', 'Japan_001003.txt', 'Japan_001029.txt', 'Japan_001041.txt', 'Japan_001083.txt', 'Japan_001100.txt', 'Japan_001101.txt', 'Japan_001104.txt', 'Japan_001112.txt', 'Japan_001117.txt', 'Japan_001120.txt', 'Japan_001135.txt', 'Japan_001137.txt', 'Japan_001157.txt', 'Japan_001169.txt', 'Japan_001194.txt', 'Japan_001200.txt', 'Japan_001264.txt', 'Japan_001266.txt', 'Japan_001274.txt', 'Japan_001333.txt', 'Japan_001371.txt', 'Japan_001377.txt', 'Japan_001383.txt', 'Japan_001400.txt', 'Japan_001441.txt', 'Japan_001446.txt', 'Japan_001455.txt', 'Japan_001467.txt', 'Japan_001479.txt', 'Japan_001482.txt', 'Japan_001485.txt', 'Japan_001494.txt', 'Japan_001506.txt', 'Japan_001554.txt', 'Japan_001558.txt', 'Japan_001561.txt', 'Japan_001587.txt', 'Japan_001598.txt', 'Japan_001599.txt', 'Japan_001615.txt', 'Japan_001620.txt', 'Japan_001665.txt', 'Japan_001675.txt', 'Japan_001707.txt', 'Japan_001708.txt', 'Japan_001717.txt', 'Japan_001718.txt', 'Japan_001739.txt', 'Japan_001750.txt', 'Japan_001764.txt', 'Japan_001770.txt', 'Japan_001777.txt', 'Japan_001819.txt', 'Japan_001853.txt', 'Japan_001875.txt', 'Japan_001888.txt', 'Japan_001899.txt', 'Japan_001903.txt', 'Japan_001908.txt', 'Japan_001910.txt', 'Japan_001929.txt', 'Japan_001953.txt', 'Japan_001964.txt', 'Japan_001982.txt', 'Japan_002005.txt', 'Japan_002089.txt', 'Japan_002094.txt', 'Japan_002107.txt', 'Japan_002121.txt', 'Japan_002148.txt', 'Japan_002153.txt', 'Japan_002162.txt', 'Japan_002174.txt', 'Japan_002188.txt', 'Japan_002195.txt', 'Japan_002206.txt', 'Japan_002207.txt', 'Japan_002211.txt', 'Japan_002222.txt', 'Japan_002223.txt', 'Japan_002230.txt', 'Japan_002237.txt', 'Japan_002258.txt', 'Japan_002276.txt', 'Japan_002335.txt', 'Japan_002336.txt', 'Japan_002361.txt', 'Japan_002370.txt', 'Japan_002374.txt', 'Japan_002387.txt', 'Japan_002390.txt', 'Japan_002402.txt', 'Japan_002429.txt', 'Japan_002442.txt', 'Japan_002445.txt', 'Japan_002483.txt', 'Japan_002484.txt', 'Japan_002516.txt', 'Japan_002520.txt', 'Japan_002538.txt', 'Japan_002545.txt', 'Japan_002549.txt', 'Japan_002552.txt', 'Japan_002580.txt', 'Japan_002589.txt', 'Japan_002592.txt', 'Japan_002611.txt', 'Japan_002617.txt', 'Japan_002642.txt', 'Japan_002669.txt', 'Japan_002694.txt', 'Japan_002699.txt', 'Japan_002723.txt', 'Japan_002728.txt', 'Japan_002771.txt', 'Japan_002789.txt', 'Japan_002818.txt', 'Japan_002847.txt', 'Japan_002864.txt', 'Japan_002866.txt', 'Japan_002868.txt', 'Japan_002900.txt', 'Japan_002901.txt', 'Japan_002910.txt', 'Japan_002920.txt', 'Japan_002924.txt', 'Japan_002930.txt', 'Japan_002980.txt', 'Japan_002989.txt', 'Japan_002999.txt', 'Japan_003015.txt', 'Japan_003018.txt', 'Japan_003054.txt', 'Japan_003058.txt', 'Japan_003063.txt', 'Japan_003067.txt', 'Japan_003072.txt', 'Japan_003076.txt', 'Japan_003085.txt', 'Japan_003092.txt', 'Japan_003107.txt', 'Japan_003120.txt', 'Japan_003125.txt', 'Japan_003134.txt', 'Japan_003152.txt', 'Japan_003156.txt', 'Japan_003161.txt', 'Japan_003164.txt', 'Japan_003168.txt', 'Japan_003179.txt', 'Japan_003180.txt', 'Japan_003185.txt', 'Japan_003186.txt', 'Japan_003228.txt', 'Japan_003236.txt', 'Japan_003253.txt', 'Japan_003268.txt', 'Japan_003271.txt', 'Japan_003290.txt', 'Japan_003304.txt', 'Japan_003309.txt', 'Japan_003316.txt', 'Japan_003321.txt', 'Japan_003346.txt', 'Japan_003377.txt', 'Japan_003383.txt', 'Japan_003400.txt', 'Japan_003414.txt', 'Japan_003448.txt', 'Japan_003449.txt', 'Japan_003474.txt', 'Japan_003483.txt', 'Japan_003495.txt', 'Japan_003507.txt', 'Japan_003513.txt', 'Japan_003517.txt', 'Japan_003525.txt', 'Japan_003538.txt', 'Japan_003551.txt', 'Japan_003579.txt', 'Japan_003581.txt', 'Japan_003595.txt', 'Japan_003596.txt', 'Japan_003635.txt', 'Japan_003646.txt', 'Japan_003653.txt', 'Japan_003703.txt', 'Japan_003707.txt', 'Japan_003726.txt', 'Japan_003729.txt', 'Japan_003744.txt', 'Japan_003754.txt', 'Japan_003761.txt', 'Japan_003762.txt', 'Japan_003766.txt', 'Japan_003800.txt', 'Japan_003815.txt', 'Japan_003833.txt', 'Japan_003849.txt', 'Japan_003863.txt', 'Japan_003865.txt', 'Japan_003908.txt', 'Japan_003924.txt', 'Japan_003930.txt', 'Japan_003949.txt', 'Japan_003981.txt', 'Japan_004005.txt', 'Japan_004035.txt', 'Japan_004040.txt', 'Japan_004045.txt', 'Japan_004048.txt', 'Japan_004072.txt', 'Japan_004099.txt', 'Japan_004109.txt', 'Japan_004132.txt', 'Japan_004150.txt', 'Japan_004172.txt', 'Japan_004189.txt', 'Japan_004219.txt', 'Japan_004230.txt', 'Japan_004252.txt', 'Japan_004255.txt', 'Japan_004259.txt', 'Japan_004266.txt', 'Japan_004276.txt', 'Japan_004282.txt', 'Japan_004284.txt', 'Japan_004287.txt', 'Japan_004297.txt', 'Japan_004328.txt', 'Japan_004334.txt', 'Japan_004375.txt', 'Japan_004403.txt', 'Japan_004408.txt', 'Japan_004420.txt', 'Japan_004463.txt', 'Japan_004467.txt', 'Japan_004472.txt', 'Japan_004479.txt', 'Japan_004480.txt', 'Japan_004485.txt', 'Japan_004501.txt', 'Japan_004502.txt', 'Japan_004504.txt', 'Japan_004516.txt', 'Japan_004536.txt', 'Japan_004548.txt', 'Japan_004582.txt', 'Japan_004589.txt', 'Japan_004605.txt', 'Japan_004613.txt', 'Japan_004617.txt', 'Japan_004618.txt', 'Japan_004639.txt', 'Japan_004653.txt', 'Japan_004658.txt', 'Japan_004663.txt', 'Japan_004672.txt', 'Japan_004716.txt', 'Japan_004719.txt', 'Japan_004727.txt', 'Japan_004744.txt', 'Japan_004817.txt', 'Japan_004854.txt', 'Japan_004871.txt', 'Japan_004872.txt', 'Japan_004875.txt', 'Japan_004894.txt', 'Japan_004896.txt', 'Japan_004898.txt', 'Japan_004922.txt', 'Japan_004923.txt', 'Japan_004933.txt', 'Japan_004941.txt', 'Japan_004945.txt', 'Japan_004948.txt', 'Japan_004952.txt', 'Japan_004974.txt', 'Japan_004975.txt', 'Japan_004979.txt', 'Japan_004987.txt', 'Japan_004989.txt', 'Japan_004997.txt', 'Japan_005079.txt', 'Japan_005125.txt', 'Japan_005134.txt', 'Japan_005136.txt', 'Japan_005137.txt', 'Japan_005150.txt', 'Japan_005154.txt', 'Japan_005169.txt', 'Japan_005256.txt', 'Japan_005318.txt', 'Japan_005324.txt', 'Japan_005329.txt', 'Japan_005332.txt', 'Japan_005340.txt', 'Japan_005350.txt', 'Japan_005360.txt', 'Japan_005374.txt', 'Japan_005410.txt', 'Japan_005418.txt', 'Japan_005431.txt', 'Japan_005459.txt', 'Japan_005490.txt', 'Japan_005544.txt', 'Japan_005553.txt', 'Japan_005564.txt', 'Japan_005570.txt', 'Japan_005575.txt', 'Japan_005576.txt', 'Japan_005585.txt', 'Japan_005601.txt', 'Japan_005603.txt', 'Japan_005631.txt', 'Japan_005638.txt', 'Japan_005649.txt', 'Japan_005674.txt', 'Japan_005678.txt', 'Japan_005696.txt', 'Japan_005710.txt', 'Japan_005722.txt', 'Japan_005731.txt', 'Japan_005740.txt', 'Japan_005745.txt', 'Japan_005749.txt', 'Japan_005754.txt', 'Japan_005760.txt', 'Japan_005782.txt', 'Japan_005790.txt', 'Japan_005793.txt', 'Japan_005798.txt', 'Japan_005801.txt', 'Japan_005807.txt', 'Japan_005808.txt', 'Japan_005816.txt', 'Japan_005823.txt', 'Japan_005828.txt', 'Japan_005838.txt', 'Japan_005855.txt', 'Japan_005866.txt', 'Japan_005876.txt', 'Japan_005917.txt', 'Japan_005921.txt', 'Japan_005922.txt', 'Japan_005961.txt', 'Japan_005967.txt', 'Japan_005985.txt', 'Japan_006032.txt', 'Japan_006036.txt', 'Japan_006037.txt', 'Japan_006045.txt', 'Japan_006047.txt', 'Japan_006048.txt', 'Japan_006052.txt', 'Japan_006065.txt', 'Japan_006080.txt', 'Japan_006097.txt', 'Japan_006103.txt', 'Japan_006110.txt', 'Japan_006118.txt', 'Japan_006134.txt', 'Japan_006144.txt', 'Japan_006156.txt', 'Japan_006170.txt', 'Japan_006186.txt', 'Japan_006206.txt', 'Japan_006224.txt', 'Japan_006228.txt', 'Japan_006230.txt', 'Japan_006239.txt', 'Japan_006263.txt', 'Japan_006272.txt', 'Japan_006277.txt', 'Japan_006279.txt', 'Japan_006292.txt', 'Japan_006293.txt', 'Japan_006304.txt', 'Japan_006347.txt', 'Japan_006393.txt', 'Japan_006416.txt', 'Japan_006419.txt', 'Japan_006437.txt', 'Japan_006450.txt', 'Japan_006457.txt', 'Japan_006475.txt', 'Japan_006477.txt', 'Japan_006508.txt', 'Japan_006515.txt', 'Japan_006519.txt', 'Japan_006529.txt', 'Japan_006530.txt', 'Japan_006541.txt', 'Japan_006555.txt', 'Japan_006557.txt', 'Japan_006583.txt', 'Japan_006603.txt', 'Japan_006625.txt', 'Japan_006643.txt', 'Japan_006644.txt', 'Japan_006647.txt', 'Japan_006654.txt', 'Japan_006658.txt', 'Japan_006659.txt', 'Japan_006662.txt', 'Japan_006664.txt', 'Japan_006677.txt', 'Japan_006690.txt', 'Japan_006699.txt', 'Japan_006709.txt', 'Japan_006711.txt', 'Japan_006743.txt', 'Japan_006766.txt', 'Japan_006777.txt', 'Japan_006779.txt', 'Japan_006785.txt', 'Japan_006793.txt', 'Japan_006827.txt', 'Japan_006844.txt', 'Japan_006862.txt', 'Japan_006867.txt', 'Japan_006868.txt', 'Japan_006870.txt', 'Japan_006876.txt', 'Japan_006880.txt', 'Japan_006895.txt', 'Japan_006918.txt', 'Japan_006923.txt', 'Japan_006934.txt', 'Japan_006935.txt', 'Japan_006952.txt', 'Japan_006953.txt', 'Japan_006958.txt', 'Japan_006971.txt', 'Japan_006996.txt', 'Japan_007017.txt', 'Japan_007026.txt', 'Japan_007030.txt', 'Japan_007038.txt', 'Japan_007070.txt', 'Japan_007071.txt', 'Japan_007073.txt', 'Japan_007075.txt', 'Japan_007082.txt', 'Japan_007084.txt', 'Japan_007085.txt', 'Japan_007089.txt', 'Japan_007097.txt', 'Japan_007098.txt', 'Japan_007112.txt', 'Japan_007120.txt', 'Japan_007129.txt', 'Japan_007149.txt', 'Japan_007155.txt', 'Japan_007176.txt', 'Japan_007191.txt', 'Japan_007199.txt', 'Japan_007201.txt', 'Japan_007209.txt', 'Japan_007226.txt', 'Japan_007234.txt', 'Japan_007240.txt', 'Japan_007248.txt', 'Japan_007256.txt', 'Japan_007273.txt', 'Japan_007305.txt', 'Japan_007309.txt', 'Japan_007327.txt', 'Japan_007337.txt', 'Japan_007343.txt', 'Japan_007344.txt', 'Japan_007413.txt', 'Japan_007418.txt', 'Japan_007420.txt', 'Japan_007459.txt', 'Japan_007468.txt', 'Japan_007470.txt', 'Japan_007473.txt', 'Japan_007481.txt', 'Japan_007485.txt', 'Japan_007493.txt', 'Japan_007495.txt', 'Japan_007497.txt', 'Japan_007518.txt', 'Japan_007529.txt', 'Japan_007531.txt', 'Japan_007546.txt', 'Japan_007547.txt', 'Japan_007553.txt', 'Japan_007581.txt', 'Japan_007600.txt', 'Japan_007613.txt', 'Japan_007617.txt', 'Japan_007624.txt', 'Japan_007636.txt', 'Japan_007652.txt', 'Japan_007655.txt', 'Japan_007657.txt', 'Japan_007665.txt', 'Japan_007670.txt', 'Japan_007691.txt', 'Japan_007709.txt', 'Japan_007718.txt', 'Japan_007734.txt', 'Japan_007750.txt', 'Japan_007757.txt', 'Japan_007772.txt', 'Japan_007784.txt', 'Japan_007789.txt', 'Japan_007811.txt', 'Japan_007817.txt', 'Japan_007845.txt', 'Japan_007855.txt', 'Japan_007859.txt', 'Japan_007860.txt', 'Japan_007866.txt', 'Japan_007867.txt', 'Japan_007880.txt', 'Japan_007898.txt', 'Japan_007912.txt', 'Japan_007925.txt', 'Japan_007927.txt', 'Japan_007932.txt', 'Japan_007956.txt', 'Japan_007963.txt', 'Japan_007986.txt', 'Japan_007995.txt', 'Japan_008000.txt', 'Japan_008002.txt', 'Japan_008006.txt', 'Japan_008017.txt', 'Japan_008049.txt', 'Japan_008064.txt', 'Japan_008065.txt', 'Japan_008094.txt', 'Japan_008115.txt', 'Japan_008152.txt', 'Japan_008158.txt', 'Japan_008165.txt', 'Japan_008195.txt', 'Japan_008204.txt', 'Japan_008208.txt', 'Japan_008222.txt', 'Japan_008230.txt', 'Japan_008231.txt', 'Japan_008234.txt', 'Japan_008238.txt', 'Japan_008260.txt', 'Japan_008270.txt', 'Japan_008308.txt', 'Japan_008325.txt', 'Japan_008336.txt', 'Japan_008342.txt', 'Japan_008347.txt', 'Japan_008352.txt', 'Japan_008381.txt', 'Japan_008429.txt', 'Japan_008433.txt', 'Japan_008443.txt', 'Japan_008451.txt', 'Japan_008467.txt', 'Japan_008469.txt', 'Japan_008477.txt', 'Japan_008491.txt', 'Japan_008497.txt', 'Japan_008509.txt', 'Japan_008512.txt', 'Japan_008547.txt', 'Japan_008563.txt', 'Japan_008584.txt', 'Japan_008586.txt', 'Japan_008596.txt', 'Japan_008622.txt', 'Japan_008624.txt', 'Japan_008625.txt', 'Japan_008638.txt', 'Japan_008644.txt', 'Japan_008660.txt', 'Japan_008662.txt', 'Japan_008677.txt', 'Japan_008688.txt', 'Japan_008697.txt', 'Japan_008715.txt', 'Japan_008726.txt', 'Japan_008730.txt', 'Japan_008756.txt', 'Japan_008765.txt', 'Japan_008767.txt', 'Japan_008818.txt', 'Japan_008825.txt', 'Japan_008827.txt', 'Japan_008828.txt', 'Japan_008845.txt', 'Japan_008866.txt', 'Japan_008872.txt', 'Japan_008885.txt', 'Japan_008891.txt', 'Japan_008911.txt', 'Japan_008912.txt', 'Japan_008915.txt', 'Japan_008919.txt', 'Japan_008961.txt', 'Japan_008965.txt', 'Japan_008988.txt', 'Japan_008996.txt', 'Japan_009001.txt', 'Japan_009014.txt', 'Japan_009021.txt', 'Japan_009032.txt', 'Japan_009080.txt', 'Japan_009082.txt', 'Japan_009087.txt', 'Japan_009090.txt', 'Japan_009096.txt', 'Japan_009110.txt', 'Japan_009120.txt', 'Japan_009122.txt', 'Japan_009124.txt', 'Japan_009126.txt', 'Japan_009133.txt', 'Japan_009141.txt', 'Japan_009145.txt', 'Japan_009153.txt', 'Japan_009193.txt', 'Japan_009208.txt', 'Japan_009220.txt', 'Japan_009231.txt', 'Japan_009232.txt', 'Japan_009245.txt', 'Japan_009251.txt', 'Japan_009258.txt', 'Japan_009282.txt', 'Japan_009288.txt', 'Japan_009293.txt', 'Japan_009296.txt', 'Japan_009319.txt', 'Japan_009321.txt', 'Japan_009324.txt', 'Japan_009327.txt', 'Japan_009328.txt', 'Japan_009354.txt', 'Japan_009369.txt', 'Japan_009384.txt', 'Japan_009389.txt', 'Japan_009401.txt', 'Japan_009460.txt', 'Japan_009470.txt', 'Japan_009474.txt', 'Japan_009480.txt', 'Japan_009494.txt', 'Japan_009502.txt', 'Japan_009504.txt', 'Japan_009507.txt', 'Japan_009549.txt', 'Japan_009557.txt', 'Japan_009566.txt', 'Japan_009567.txt', 'Japan_009585.txt', 'Japan_009606.txt', 'Japan_009607.txt', 'Japan_009626.txt', 'Japan_009651.txt', 'Japan_009662.txt', 'Japan_009689.txt', 'Japan_009690.txt', 'Japan_009696.txt', 'Japan_009697.txt', 'Japan_009701.txt', 'Japan_009707.txt', 'Japan_009717.txt', 'Japan_009724.txt', 'Japan_009748.txt', 'Japan_009750.txt', 'Japan_009776.txt', 'Japan_009789.txt', 'Japan_009802.txt', 'Japan_009810.txt', 'Japan_009836.txt', 'Japan_009840.txt', 'Japan_009857.txt', 'Japan_009879.txt', 'Japan_009918.txt', 'Japan_009920.txt', 'Japan_009931.txt', 'Japan_009935.txt', 'Japan_009945.txt', 'Japan_009947.txt', 'Japan_009961.txt', 'Japan_009983.txt', 'Japan_009985.txt', 'Japan_009989.txt', 'Japan_010025.txt', 'Japan_010028.txt', 'Japan_010036.txt', 'Japan_010042.txt', 'Japan_010049.txt', 'Japan_010116.txt', 'Japan_010145.txt', 'Japan_010147.txt', 'Japan_010159.txt', 'Japan_010162.txt', 'Japan_010166.txt', 'Japan_010179.txt', 'Japan_010187.txt', 'Japan_010208.txt', 'Japan_010222.txt', 'Japan_010236.txt', 'Japan_010253.txt', 'Japan_010263.txt', 'Japan_010277.txt', 'Japan_010289.txt', 'Japan_010316.txt', 'Japan_010323.txt', 'Japan_010342.txt', 'Japan_010344.txt', 'Japan_010353.txt', 'Japan_010357.txt', 'Japan_010365.txt', 'Japan_010370.txt', 'Japan_010379.txt', 'Japan_010397.txt', 'Japan_010403.txt', 'Japan_010420.txt', 'Japan_010426.txt', 'Japan_010432.txt', 'Japan_010434.txt', 'Japan_010444.txt', 'Japan_010459.txt', 'Japan_010462.txt', 'Japan_010480.txt', 'Japan_010492.txt', 'Japan_010509.txt', 'Japan_010511.txt', 'Japan_010513.txt', 'Japan_010540.txt', 'Japan_010565.txt', 'Japan_010574.txt', 'Japan_010594.txt', 'Japan_010624.txt', 'Japan_010654.txt', 'Japan_010680.txt', 'Japan_010704.txt', 'Japan_010711.txt', 'Japan_010712.txt', 'Japan_010736.txt', 'Japan_010761.txt', 'Japan_010767.txt', 'Japan_010769.txt', 'Japan_010809.txt', 'Japan_010811.txt', 'Japan_010846.txt', 'Japan_010847.txt', 'Japan_010896.txt', 'Japan_010900.txt', 'Japan_010906.txt', 'Japan_010924.txt', 'Japan_010926.txt', 'Japan_010929.txt', 'Japan_010939.txt', 'Japan_010945.txt', 'Japan_010960.txt', 'Japan_010963.txt', 'Japan_010978.txt', 'Japan_011005.txt', 'Japan_011019.txt', 'Japan_011059.txt', 'Japan_011066.txt', 'Japan_011139.txt', 'Japan_011208.txt', 'Japan_011209.txt', 'Japan_011213.txt', 'Japan_011226.txt', 'Japan_011235.txt', 'Japan_011242.txt', 'Japan_011265.txt', 'Japan_011278.txt', 'Japan_011297.txt', 'Japan_011323.txt', 'Japan_011350.txt', 'Japan_011359.txt', 'Japan_011373.txt', 'Japan_011379.txt', 'Japan_011391.txt', 'Japan_011392.txt', 'Japan_011399.txt', 'Japan_011402.txt', 'Japan_011409.txt', 'Japan_011427.txt', 'Japan_011430.txt', 'Japan_011445.txt', 'Japan_011446.txt', 'Japan_011448.txt', 'Japan_011454.txt', 'Japan_011455.txt', 'Japan_011461.txt', 'Japan_011476.txt', 'Japan_011484.txt', 'Japan_011495.txt', 'Japan_011497.txt', 'Japan_011542.txt', 'Japan_011544.txt', 'Japan_011549.txt', 'Japan_011570.txt', 'Japan_011592.txt', 'Japan_011595.txt', 'Japan_011597.txt', 'Japan_011612.txt', 'Japan_011628.txt', 'Japan_011638.txt', 'Japan_011664.txt', 'Japan_011688.txt', 'Japan_011698.txt', 'Japan_011702.txt', 'Japan_011704.txt', 'Japan_011717.txt', 'Japan_011724.txt', 'Japan_011746.txt', 'Japan_011748.txt', 'Japan_011790.txt', 'Japan_011802.txt', 'Japan_011812.txt', 'Japan_011820.txt', 'Japan_011874.txt', 'Japan_011875.txt', 'Japan_011909.txt', 'Japan_011937.txt', 'Japan_011972.txt', 'Japan_011980.txt', 'Japan_011983.txt', 'Japan_012010.txt', 'Japan_012061.txt', 'Japan_012072.txt', 'Japan_012075.txt', 'Japan_012108.txt', 'Japan_012121.txt', 'Japan_012148.txt', 'Japan_012152.txt', 'Japan_012158.txt', 'Japan_012161.txt', 'Japan_012179.txt', 'Japan_012214.txt', 'Japan_012230.txt', 'Japan_012231.txt', 'Japan_012234.txt', 'Japan_012246.txt', 'Japan_012250.txt', 'Japan_012261.txt', 'Japan_012270.txt', 'Japan_012276.txt', 'Japan_012289.txt', 'Japan_012296.txt', 'Japan_012304.txt', 'Japan_012307.txt', 'Japan_012331.txt', 'Japan_012333.txt', 'Japan_012335.txt', 'Japan_012339.txt', 'Japan_012349.txt', 'Japan_012353.txt', 'Japan_012356.txt', 'Japan_012368.txt', 'Japan_012370.txt', 'Japan_012377.txt', 'Japan_012398.txt', 'Japan_012399.txt', 'Japan_012407.txt', 'Japan_012420.txt', 'Japan_012441.txt', 'Japan_012442.txt', 'Japan_012458.txt', 'Japan_012461.txt', 'Japan_012486.txt', 'Japan_012532.txt', 'Japan_012564.txt', 'Japan_012577.txt', 'Japan_012596.txt', 'Japan_012600.txt', 'Japan_012657.txt', 'Japan_012678.txt', 'Japan_012682.txt', 'Japan_012692.txt', 'Japan_012714.txt', 'Japan_012719.txt', 'Japan_012724.txt', 'Japan_012737.txt', 'Japan_012747.txt', 'Japan_012754.txt', 'Japan_012760.txt', 'Japan_012778.txt', 'Japan_012779.txt', 'Japan_012784.txt', 'Japan_012785.txt', 'Japan_012843.txt', 'Japan_012852.txt', 'Japan_012859.txt', 'Japan_012897.txt', 'Japan_012918.txt', 'Japan_012929.txt', 'Japan_012940.txt', 'Japan_012948.txt', 'Japan_012973.txt', 'Japan_012986.txt', 'Japan_012998.txt', 'Japan_013000.txt', 'Japan_013009.txt', 'Japan_013043.txt', 'Japan_013045.txt', 'Japan_013051.txt', 'Japan_013054.txt', 'Japan_013071.txt', 'Japan_013073.txt', 'Japan_013081.txt', 'Japan_013090.txt', 'Japan_013096.txt', 'Japan_013101.txt', 'Japan_013106.txt', 'Japan_013111.txt', 'Japan_013125.txt']\n",
      "set()\n",
      "True\n",
      "[]\n",
      "[]\n",
      "Данные папки annotation:\n",
      "Counter()\n",
      "\n",
      "Данные папки images:\n",
      "Counter()\n"
     ]
    }
   ],
   "source": [
    "import os\n",
    "annot_results = [each for each in os.listdir('./data/Japan/annatations') if each.endswith('.txt')]\n",
    "imgs_results = [each for each in os.listdir('./data/Japan/images') if each.endswith('.txt')]\n",
    "print(annot_results == imgs_results)\n",
    "print(imgs_results)\n",
    "print(annot_results)\n",
    "\n",
    "# Найдём совпадающие данные с помощью множеств set\n",
    "duplicates = set(imgs_results) & set(annot_results)\n",
    "print(duplicates)\n",
    "\n",
    "annot_data = []\n",
    "img_data = []\n",
    "root = r'./data/Japan/'\n",
    "for txt in duplicates:\n",
    "    with open(os.path.join(root, 'annatations', txt), 'r') as file:\n",
    "        annot_data.append(file.readline())\n",
    "    with open(os.path.join(root, 'images', txt), 'r') as file:\n",
    "        img_data.append(file.readline())\n",
    "print(annot_data == img_data)\n",
    "print(annot_data)\n",
    "print(img_data)\n",
    "\n",
    "from collections import Counter\n",
    "\n",
    "print('Данные папки annotation:', Counter(annot_data), sep='\\n', end='\\n\\n')\n",
    "print('Данные папки images:', Counter(img_data), sep='\\n')\n",
    "\n",
    "for file in imgs_results:\n",
    "    os.remove(os.path.join(root, 'images', file))"
   ]
  },
  {
   "cell_type": "markdown",
   "source": [
    "Теперь проверим правильно ли перенеслись файлы"
   ],
   "metadata": {
    "collapsed": false
   },
   "id": "a18f74fc18ca10ed"
  },
  {
   "cell_type": "code",
   "outputs": [],
   "source": [
    "# txt файлы\n",
    "start_data = []\n",
    "end_data = []\n",
    "data_type = 'annatations'\n",
    "# start\n",
    "root = r'.\\new'\n",
    "for data_dir in next(os.walk(root))[1]:\n",
    "    for city in next(os.walk(os.path.join(root, data_dir)))[1]:\n",
    "        txt_files = os.listdir(os.path.join(root, data_dir, city, data_type))\n",
    "        for txt in txt_files:\n",
    "            with open(os.path.join(root, data_dir, city, data_type, txt), 'r', encoding='utf-8') as file:\n",
    "                start_data.append(file.readline())\n",
    "\n",
    "# end\n",
    "root = r'.\\data\\all'\n",
    "data_type = 'annatations'\n",
    "txt_files = os.listdir(os.path.join(root, data_type))\n",
    "for txt in txt_files:\n",
    "    with open(os.path.join(root, data_type,txt), 'r', encoding='utf-8') as file:\n",
    "        end_data.append(file.readline())"
   ],
   "metadata": {
    "collapsed": false
   },
   "id": "8457e32d4635f258",
   "execution_count": 10
  },
  {
   "cell_type": "code",
   "outputs": [
    {
     "data": {
      "text/plain": "3380"
     },
     "execution_count": 14,
     "metadata": {},
     "output_type": "execute_result"
    }
   ],
   "source": [
    "len(start_data)"
   ],
   "metadata": {
    "collapsed": false
   },
   "id": "2d01209443becf0f",
   "execution_count": 14
  },
  {
   "cell_type": "code",
   "outputs": [
    {
     "data": {
      "text/plain": "3380"
     },
     "execution_count": 13,
     "metadata": {},
     "output_type": "execute_result"
    }
   ],
   "source": [
    "len(end_data)"
   ],
   "metadata": {
    "collapsed": false
   },
   "id": "3a38b64d6f1ff086",
   "execution_count": 13
  },
  {
   "cell_type": "code",
   "outputs": [
    {
     "data": {
      "text/plain": "False"
     },
     "execution_count": 15,
     "metadata": {},
     "output_type": "execute_result"
    }
   ],
   "source": [
    "start_data == end_data"
   ],
   "metadata": {
    "collapsed": false
   },
   "id": "81215cd55cc38485",
   "execution_count": 15
  },
  {
   "cell_type": "code",
   "outputs": [],
   "source": [
    "# Ресайз изображений\n",
    "#!/usr/bin/python\n",
    "from PIL import Image\n",
    "import os, sys\n",
    "\n",
    "path = \"./data/corrupted/images/\"\n",
    "dirs = os.listdir(path)\n",
    "for item in dirs:\n",
    "    print(item)\n",
    "    if os.path.isfile(path + item):\n",
    "        im = Image.open(path + item)\n",
    "        f, e = os.path.splitext(path + item)\n",
    "        imResize = im.resize((720, 720))\n",
    "        imResize.save(f'{path}{item}', 'JPEG')"
   ],
   "metadata": {
    "collapsed": false
   },
   "id": "84d63264e5b45268"
  }
 ],
 "metadata": {
  "kernelspec": {
   "display_name": "Python 3",
   "language": "python",
   "name": "python3"
  },
  "language_info": {
   "codemirror_mode": {
    "name": "ipython",
    "version": 2
   },
   "file_extension": ".py",
   "mimetype": "text/x-python",
   "name": "python",
   "nbconvert_exporter": "python",
   "pygments_lexer": "ipython2",
   "version": "2.7.6"
  }
 },
 "nbformat": 4,
 "nbformat_minor": 5
}
